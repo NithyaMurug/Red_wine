{
 "cells": [
  {
   "cell_type": "code",
   "execution_count": 2,
   "id": "87b25e60",
   "metadata": {},
   "outputs": [],
   "source": [
    "import pandas as pd\n",
    "import numpy as np\n",
    "import matplotlib.pyplot as plt\n",
    "import seaborn as sns\n",
    "import scipy\n",
    "from scipy import stats\n",
    "from scipy.stats import chi2_contingency\n",
    "import statsmodels.api as sm\n",
    "from statsmodels.formula.api import ols\n",
    "from statsmodels.stats.multicomp import pairwise_tukeyhsd\n",
    "import statsmodels.formula.api as smf\n",
    "pd.set_option('display.max_column',None)\n",
    "from sklearn.linear_model import LinearRegression\n",
    "pd.set_option('display.max_column',None)\n",
    "from sklearn.linear_model import LinearRegression\n",
    "from statsmodels.stats.outliers_influence import variance_inflation_factor\n",
    "from sklearn.model_selection import train_test_split\n",
    "from sklearn.preprocessing import StandardScaler\n",
    "from sklearn.preprocessing import LabelEncoder\n",
    "from sklearn.linear_model import SGDRegressor\n",
    "from sklearn.metrics import mean_squared_error\n",
    "from sklearn.metrics import confusion_matrix , classification_report\n",
    "from sklearn.metrics import confusion_matrix \n",
    "from sklearn.preprocessing import LabelEncoder\n",
    "from sklearn.metrics import roc_curve,auc,roc_auc_score\n",
    "from sklearn.linear_model import LogisticRegression\n",
    "from sklearn import metrics\n",
    "from sklearn.metrics import confusion_matrix , classification_report\n",
    "from sklearn.metrics import classification_report\n",
    "from sklearn.utils import resample\n",
    "import warnings\n",
    "warnings.filterwarnings(\"ignore\")\n",
    "from sklearn.preprocessing import MinMaxScaler"
   ]
  },
  {
   "cell_type": "code",
   "execution_count": 2,
   "id": "e1fe25c1",
   "metadata": {},
   "outputs": [],
   "source": [
    "wine =  pd.read_csv(\"C:\\\\Users\\\\Dell\\\\Desktop\\\\Nithya VB\\\\project1\\\\winequality-red.csv\")"
   ]
  },
  {
   "cell_type": "code",
   "execution_count": 3,
   "id": "bb151042",
   "metadata": {},
   "outputs": [
    {
     "name": "stdout",
     "output_type": "stream",
     "text": [
      "<class 'pandas.core.frame.DataFrame'>\n",
      "RangeIndex: 1599 entries, 0 to 1598\n",
      "Data columns (total 12 columns):\n",
      " #   Column                Non-Null Count  Dtype  \n",
      "---  ------                --------------  -----  \n",
      " 0   fixed_acidity         1599 non-null   float64\n",
      " 1   volatile_acidity      1599 non-null   float64\n",
      " 2   citric_acid           1599 non-null   float64\n",
      " 3   residual_sugar        1599 non-null   float64\n",
      " 4   chlorides             1599 non-null   float64\n",
      " 5   free_sulfur_dioxide   1599 non-null   float64\n",
      " 6   total_sulfur_dioxide  1599 non-null   float64\n",
      " 7   density               1599 non-null   float64\n",
      " 8   pH                    1599 non-null   float64\n",
      " 9   sulphates             1599 non-null   float64\n",
      " 10  alcohol               1599 non-null   float64\n",
      " 11  quality               1599 non-null   int64  \n",
      "dtypes: float64(11), int64(1)\n",
      "memory usage: 150.0 KB\n"
     ]
    },
    {
     "data": {
      "text/plain": [
       "(1599, 12)"
      ]
     },
     "execution_count": 3,
     "metadata": {},
     "output_type": "execute_result"
    }
   ],
   "source": [
    "wine.info()\n",
    "wine.shape"
   ]
  },
  {
   "cell_type": "code",
   "execution_count": 4,
   "id": "33f36b4d",
   "metadata": {},
   "outputs": [
    {
     "data": {
      "text/html": [
       "<div>\n",
       "<style scoped>\n",
       "    .dataframe tbody tr th:only-of-type {\n",
       "        vertical-align: middle;\n",
       "    }\n",
       "\n",
       "    .dataframe tbody tr th {\n",
       "        vertical-align: top;\n",
       "    }\n",
       "\n",
       "    .dataframe thead th {\n",
       "        text-align: right;\n",
       "    }\n",
       "</style>\n",
       "<table border=\"1\" class=\"dataframe\">\n",
       "  <thead>\n",
       "    <tr style=\"text-align: right;\">\n",
       "      <th></th>\n",
       "      <th>fixed_acidity</th>\n",
       "      <th>volatile_acidity</th>\n",
       "      <th>citric_acid</th>\n",
       "      <th>residual_sugar</th>\n",
       "      <th>chlorides</th>\n",
       "      <th>free_sulfur_dioxide</th>\n",
       "      <th>total_sulfur_dioxide</th>\n",
       "      <th>density</th>\n",
       "      <th>pH</th>\n",
       "      <th>sulphates</th>\n",
       "      <th>alcohol</th>\n",
       "      <th>quality</th>\n",
       "    </tr>\n",
       "  </thead>\n",
       "  <tbody>\n",
       "    <tr>\n",
       "      <th>0</th>\n",
       "      <td>7.4</td>\n",
       "      <td>0.70</td>\n",
       "      <td>0.00</td>\n",
       "      <td>1.9</td>\n",
       "      <td>0.076</td>\n",
       "      <td>11.0</td>\n",
       "      <td>34.0</td>\n",
       "      <td>0.9978</td>\n",
       "      <td>3.51</td>\n",
       "      <td>0.56</td>\n",
       "      <td>9.4</td>\n",
       "      <td>5</td>\n",
       "    </tr>\n",
       "    <tr>\n",
       "      <th>1</th>\n",
       "      <td>7.8</td>\n",
       "      <td>0.88</td>\n",
       "      <td>0.00</td>\n",
       "      <td>2.6</td>\n",
       "      <td>0.098</td>\n",
       "      <td>25.0</td>\n",
       "      <td>67.0</td>\n",
       "      <td>0.9968</td>\n",
       "      <td>3.20</td>\n",
       "      <td>0.68</td>\n",
       "      <td>9.8</td>\n",
       "      <td>5</td>\n",
       "    </tr>\n",
       "    <tr>\n",
       "      <th>2</th>\n",
       "      <td>7.8</td>\n",
       "      <td>0.76</td>\n",
       "      <td>0.04</td>\n",
       "      <td>2.3</td>\n",
       "      <td>0.092</td>\n",
       "      <td>15.0</td>\n",
       "      <td>54.0</td>\n",
       "      <td>0.9970</td>\n",
       "      <td>3.26</td>\n",
       "      <td>0.65</td>\n",
       "      <td>9.8</td>\n",
       "      <td>5</td>\n",
       "    </tr>\n",
       "    <tr>\n",
       "      <th>3</th>\n",
       "      <td>11.2</td>\n",
       "      <td>0.28</td>\n",
       "      <td>0.56</td>\n",
       "      <td>1.9</td>\n",
       "      <td>0.075</td>\n",
       "      <td>17.0</td>\n",
       "      <td>60.0</td>\n",
       "      <td>0.9980</td>\n",
       "      <td>3.16</td>\n",
       "      <td>0.58</td>\n",
       "      <td>9.8</td>\n",
       "      <td>6</td>\n",
       "    </tr>\n",
       "    <tr>\n",
       "      <th>4</th>\n",
       "      <td>7.4</td>\n",
       "      <td>0.70</td>\n",
       "      <td>0.00</td>\n",
       "      <td>1.9</td>\n",
       "      <td>0.076</td>\n",
       "      <td>11.0</td>\n",
       "      <td>34.0</td>\n",
       "      <td>0.9978</td>\n",
       "      <td>3.51</td>\n",
       "      <td>0.56</td>\n",
       "      <td>9.4</td>\n",
       "      <td>5</td>\n",
       "    </tr>\n",
       "  </tbody>\n",
       "</table>\n",
       "</div>"
      ],
      "text/plain": [
       "   fixed_acidity  volatile_acidity  citric_acid  residual_sugar  chlorides  \\\n",
       "0            7.4              0.70         0.00             1.9      0.076   \n",
       "1            7.8              0.88         0.00             2.6      0.098   \n",
       "2            7.8              0.76         0.04             2.3      0.092   \n",
       "3           11.2              0.28         0.56             1.9      0.075   \n",
       "4            7.4              0.70         0.00             1.9      0.076   \n",
       "\n",
       "   free_sulfur_dioxide  total_sulfur_dioxide  density    pH  sulphates  \\\n",
       "0                 11.0                  34.0   0.9978  3.51       0.56   \n",
       "1                 25.0                  67.0   0.9968  3.20       0.68   \n",
       "2                 15.0                  54.0   0.9970  3.26       0.65   \n",
       "3                 17.0                  60.0   0.9980  3.16       0.58   \n",
       "4                 11.0                  34.0   0.9978  3.51       0.56   \n",
       "\n",
       "   alcohol  quality  \n",
       "0      9.4        5  \n",
       "1      9.8        5  \n",
       "2      9.8        5  \n",
       "3      9.8        6  \n",
       "4      9.4        5  "
      ]
     },
     "execution_count": 4,
     "metadata": {},
     "output_type": "execute_result"
    }
   ],
   "source": [
    "wine.head()"
   ]
  },
  {
   "cell_type": "code",
   "execution_count": 5,
   "id": "2aa6a0b8",
   "metadata": {},
   "outputs": [
    {
     "data": {
      "text/html": [
       "<div>\n",
       "<style scoped>\n",
       "    .dataframe tbody tr th:only-of-type {\n",
       "        vertical-align: middle;\n",
       "    }\n",
       "\n",
       "    .dataframe tbody tr th {\n",
       "        vertical-align: top;\n",
       "    }\n",
       "\n",
       "    .dataframe thead th {\n",
       "        text-align: right;\n",
       "    }\n",
       "</style>\n",
       "<table border=\"1\" class=\"dataframe\">\n",
       "  <thead>\n",
       "    <tr style=\"text-align: right;\">\n",
       "      <th></th>\n",
       "      <th>fixed_acidity</th>\n",
       "      <th>volatile_acidity</th>\n",
       "      <th>citric_acid</th>\n",
       "      <th>residual_sugar</th>\n",
       "      <th>chlorides</th>\n",
       "      <th>free_sulfur_dioxide</th>\n",
       "      <th>total_sulfur_dioxide</th>\n",
       "      <th>density</th>\n",
       "      <th>pH</th>\n",
       "      <th>sulphates</th>\n",
       "      <th>alcohol</th>\n",
       "      <th>quality</th>\n",
       "    </tr>\n",
       "  </thead>\n",
       "  <tbody>\n",
       "    <tr>\n",
       "      <th>1594</th>\n",
       "      <td>6.2</td>\n",
       "      <td>0.600</td>\n",
       "      <td>0.08</td>\n",
       "      <td>2.0</td>\n",
       "      <td>0.090</td>\n",
       "      <td>32.0</td>\n",
       "      <td>44.0</td>\n",
       "      <td>0.99490</td>\n",
       "      <td>3.45</td>\n",
       "      <td>0.58</td>\n",
       "      <td>10.5</td>\n",
       "      <td>5</td>\n",
       "    </tr>\n",
       "    <tr>\n",
       "      <th>1595</th>\n",
       "      <td>5.9</td>\n",
       "      <td>0.550</td>\n",
       "      <td>0.10</td>\n",
       "      <td>2.2</td>\n",
       "      <td>0.062</td>\n",
       "      <td>39.0</td>\n",
       "      <td>51.0</td>\n",
       "      <td>0.99512</td>\n",
       "      <td>3.52</td>\n",
       "      <td>0.76</td>\n",
       "      <td>11.2</td>\n",
       "      <td>6</td>\n",
       "    </tr>\n",
       "    <tr>\n",
       "      <th>1596</th>\n",
       "      <td>6.3</td>\n",
       "      <td>0.510</td>\n",
       "      <td>0.13</td>\n",
       "      <td>2.3</td>\n",
       "      <td>0.076</td>\n",
       "      <td>29.0</td>\n",
       "      <td>40.0</td>\n",
       "      <td>0.99574</td>\n",
       "      <td>3.42</td>\n",
       "      <td>0.75</td>\n",
       "      <td>11.0</td>\n",
       "      <td>6</td>\n",
       "    </tr>\n",
       "    <tr>\n",
       "      <th>1597</th>\n",
       "      <td>5.9</td>\n",
       "      <td>0.645</td>\n",
       "      <td>0.12</td>\n",
       "      <td>2.0</td>\n",
       "      <td>0.075</td>\n",
       "      <td>32.0</td>\n",
       "      <td>44.0</td>\n",
       "      <td>0.99547</td>\n",
       "      <td>3.57</td>\n",
       "      <td>0.71</td>\n",
       "      <td>10.2</td>\n",
       "      <td>5</td>\n",
       "    </tr>\n",
       "    <tr>\n",
       "      <th>1598</th>\n",
       "      <td>6.0</td>\n",
       "      <td>0.310</td>\n",
       "      <td>0.47</td>\n",
       "      <td>3.6</td>\n",
       "      <td>0.067</td>\n",
       "      <td>18.0</td>\n",
       "      <td>42.0</td>\n",
       "      <td>0.99549</td>\n",
       "      <td>3.39</td>\n",
       "      <td>0.66</td>\n",
       "      <td>11.0</td>\n",
       "      <td>6</td>\n",
       "    </tr>\n",
       "  </tbody>\n",
       "</table>\n",
       "</div>"
      ],
      "text/plain": [
       "      fixed_acidity  volatile_acidity  citric_acid  residual_sugar  chlorides  \\\n",
       "1594            6.2             0.600         0.08             2.0      0.090   \n",
       "1595            5.9             0.550         0.10             2.2      0.062   \n",
       "1596            6.3             0.510         0.13             2.3      0.076   \n",
       "1597            5.9             0.645         0.12             2.0      0.075   \n",
       "1598            6.0             0.310         0.47             3.6      0.067   \n",
       "\n",
       "      free_sulfur_dioxide  total_sulfur_dioxide  density    pH  sulphates  \\\n",
       "1594                 32.0                  44.0  0.99490  3.45       0.58   \n",
       "1595                 39.0                  51.0  0.99512  3.52       0.76   \n",
       "1596                 29.0                  40.0  0.99574  3.42       0.75   \n",
       "1597                 32.0                  44.0  0.99547  3.57       0.71   \n",
       "1598                 18.0                  42.0  0.99549  3.39       0.66   \n",
       "\n",
       "      alcohol  quality  \n",
       "1594     10.5        5  \n",
       "1595     11.2        6  \n",
       "1596     11.0        6  \n",
       "1597     10.2        5  \n",
       "1598     11.0        6  "
      ]
     },
     "execution_count": 5,
     "metadata": {},
     "output_type": "execute_result"
    }
   ],
   "source": [
    "wine.tail()"
   ]
  },
  {
   "cell_type": "code",
   "execution_count": 6,
   "id": "d519030a",
   "metadata": {
    "scrolled": false
   },
   "outputs": [
    {
     "data": {
      "text/html": [
       "<div>\n",
       "<style scoped>\n",
       "    .dataframe tbody tr th:only-of-type {\n",
       "        vertical-align: middle;\n",
       "    }\n",
       "\n",
       "    .dataframe tbody tr th {\n",
       "        vertical-align: top;\n",
       "    }\n",
       "\n",
       "    .dataframe thead th {\n",
       "        text-align: right;\n",
       "    }\n",
       "</style>\n",
       "<table border=\"1\" class=\"dataframe\">\n",
       "  <thead>\n",
       "    <tr style=\"text-align: right;\">\n",
       "      <th></th>\n",
       "      <th>fixed_acidity</th>\n",
       "      <th>volatile_acidity</th>\n",
       "      <th>citric_acid</th>\n",
       "      <th>residual_sugar</th>\n",
       "      <th>chlorides</th>\n",
       "      <th>free_sulfur_dioxide</th>\n",
       "      <th>total_sulfur_dioxide</th>\n",
       "      <th>density</th>\n",
       "      <th>pH</th>\n",
       "      <th>sulphates</th>\n",
       "      <th>alcohol</th>\n",
       "      <th>quality</th>\n",
       "    </tr>\n",
       "  </thead>\n",
       "  <tbody>\n",
       "    <tr>\n",
       "      <th>count</th>\n",
       "      <td>1599.000000</td>\n",
       "      <td>1599.000000</td>\n",
       "      <td>1599.000000</td>\n",
       "      <td>1599.000000</td>\n",
       "      <td>1599.000000</td>\n",
       "      <td>1599.000000</td>\n",
       "      <td>1599.000000</td>\n",
       "      <td>1599.000000</td>\n",
       "      <td>1599.000000</td>\n",
       "      <td>1599.000000</td>\n",
       "      <td>1599.000000</td>\n",
       "      <td>1599.000000</td>\n",
       "    </tr>\n",
       "    <tr>\n",
       "      <th>mean</th>\n",
       "      <td>8.319637</td>\n",
       "      <td>0.527821</td>\n",
       "      <td>0.270976</td>\n",
       "      <td>2.538806</td>\n",
       "      <td>0.087467</td>\n",
       "      <td>15.874922</td>\n",
       "      <td>46.467792</td>\n",
       "      <td>0.996747</td>\n",
       "      <td>3.311113</td>\n",
       "      <td>0.658149</td>\n",
       "      <td>10.422983</td>\n",
       "      <td>5.636023</td>\n",
       "    </tr>\n",
       "    <tr>\n",
       "      <th>std</th>\n",
       "      <td>1.741096</td>\n",
       "      <td>0.179060</td>\n",
       "      <td>0.194801</td>\n",
       "      <td>1.409928</td>\n",
       "      <td>0.047065</td>\n",
       "      <td>10.460157</td>\n",
       "      <td>32.895324</td>\n",
       "      <td>0.001887</td>\n",
       "      <td>0.154386</td>\n",
       "      <td>0.169507</td>\n",
       "      <td>1.065668</td>\n",
       "      <td>0.807569</td>\n",
       "    </tr>\n",
       "    <tr>\n",
       "      <th>min</th>\n",
       "      <td>4.600000</td>\n",
       "      <td>0.120000</td>\n",
       "      <td>0.000000</td>\n",
       "      <td>0.900000</td>\n",
       "      <td>0.012000</td>\n",
       "      <td>1.000000</td>\n",
       "      <td>6.000000</td>\n",
       "      <td>0.990070</td>\n",
       "      <td>2.740000</td>\n",
       "      <td>0.330000</td>\n",
       "      <td>8.400000</td>\n",
       "      <td>3.000000</td>\n",
       "    </tr>\n",
       "    <tr>\n",
       "      <th>25%</th>\n",
       "      <td>7.100000</td>\n",
       "      <td>0.390000</td>\n",
       "      <td>0.090000</td>\n",
       "      <td>1.900000</td>\n",
       "      <td>0.070000</td>\n",
       "      <td>7.000000</td>\n",
       "      <td>22.000000</td>\n",
       "      <td>0.995600</td>\n",
       "      <td>3.210000</td>\n",
       "      <td>0.550000</td>\n",
       "      <td>9.500000</td>\n",
       "      <td>5.000000</td>\n",
       "    </tr>\n",
       "    <tr>\n",
       "      <th>50%</th>\n",
       "      <td>7.900000</td>\n",
       "      <td>0.520000</td>\n",
       "      <td>0.260000</td>\n",
       "      <td>2.200000</td>\n",
       "      <td>0.079000</td>\n",
       "      <td>14.000000</td>\n",
       "      <td>38.000000</td>\n",
       "      <td>0.996750</td>\n",
       "      <td>3.310000</td>\n",
       "      <td>0.620000</td>\n",
       "      <td>10.200000</td>\n",
       "      <td>6.000000</td>\n",
       "    </tr>\n",
       "    <tr>\n",
       "      <th>75%</th>\n",
       "      <td>9.200000</td>\n",
       "      <td>0.640000</td>\n",
       "      <td>0.420000</td>\n",
       "      <td>2.600000</td>\n",
       "      <td>0.090000</td>\n",
       "      <td>21.000000</td>\n",
       "      <td>62.000000</td>\n",
       "      <td>0.997835</td>\n",
       "      <td>3.400000</td>\n",
       "      <td>0.730000</td>\n",
       "      <td>11.100000</td>\n",
       "      <td>6.000000</td>\n",
       "    </tr>\n",
       "    <tr>\n",
       "      <th>max</th>\n",
       "      <td>15.900000</td>\n",
       "      <td>1.580000</td>\n",
       "      <td>1.000000</td>\n",
       "      <td>15.500000</td>\n",
       "      <td>0.611000</td>\n",
       "      <td>72.000000</td>\n",
       "      <td>289.000000</td>\n",
       "      <td>1.003690</td>\n",
       "      <td>4.010000</td>\n",
       "      <td>2.000000</td>\n",
       "      <td>14.900000</td>\n",
       "      <td>8.000000</td>\n",
       "    </tr>\n",
       "  </tbody>\n",
       "</table>\n",
       "</div>"
      ],
      "text/plain": [
       "       fixed_acidity  volatile_acidity  citric_acid  residual_sugar  \\\n",
       "count    1599.000000       1599.000000  1599.000000     1599.000000   \n",
       "mean        8.319637          0.527821     0.270976        2.538806   \n",
       "std         1.741096          0.179060     0.194801        1.409928   \n",
       "min         4.600000          0.120000     0.000000        0.900000   \n",
       "25%         7.100000          0.390000     0.090000        1.900000   \n",
       "50%         7.900000          0.520000     0.260000        2.200000   \n",
       "75%         9.200000          0.640000     0.420000        2.600000   \n",
       "max        15.900000          1.580000     1.000000       15.500000   \n",
       "\n",
       "         chlorides  free_sulfur_dioxide  total_sulfur_dioxide      density  \\\n",
       "count  1599.000000          1599.000000           1599.000000  1599.000000   \n",
       "mean      0.087467            15.874922             46.467792     0.996747   \n",
       "std       0.047065            10.460157             32.895324     0.001887   \n",
       "min       0.012000             1.000000              6.000000     0.990070   \n",
       "25%       0.070000             7.000000             22.000000     0.995600   \n",
       "50%       0.079000            14.000000             38.000000     0.996750   \n",
       "75%       0.090000            21.000000             62.000000     0.997835   \n",
       "max       0.611000            72.000000            289.000000     1.003690   \n",
       "\n",
       "                pH    sulphates      alcohol      quality  \n",
       "count  1599.000000  1599.000000  1599.000000  1599.000000  \n",
       "mean      3.311113     0.658149    10.422983     5.636023  \n",
       "std       0.154386     0.169507     1.065668     0.807569  \n",
       "min       2.740000     0.330000     8.400000     3.000000  \n",
       "25%       3.210000     0.550000     9.500000     5.000000  \n",
       "50%       3.310000     0.620000    10.200000     6.000000  \n",
       "75%       3.400000     0.730000    11.100000     6.000000  \n",
       "max       4.010000     2.000000    14.900000     8.000000  "
      ]
     },
     "execution_count": 6,
     "metadata": {},
     "output_type": "execute_result"
    }
   ],
   "source": [
    "wine.describe()"
   ]
  },
  {
   "cell_type": "code",
   "execution_count": 7,
   "id": "c833e528",
   "metadata": {},
   "outputs": [],
   "source": [
    "df = pd.DataFrame(wine)"
   ]
  },
  {
   "cell_type": "code",
   "execution_count": 8,
   "id": "88890a81",
   "metadata": {
    "scrolled": true
   },
   "outputs": [
    {
     "name": "stdout",
     "output_type": "stream",
     "text": [
      "The no. of null values in each column are:\n",
      " fixed_acidity           0\n",
      "volatile_acidity        0\n",
      "citric_acid             0\n",
      "residual_sugar          0\n",
      "chlorides               0\n",
      "free_sulfur_dioxide     0\n",
      "total_sulfur_dioxide    0\n",
      "density                 0\n",
      "pH                      0\n",
      "sulphates               0\n",
      "alcohol                 0\n",
      "quality                 0\n",
      "dtype: int64\n"
     ]
    }
   ],
   "source": [
    "def overlook(dataframe):\n",
    "    print('The no. of null values in each column are:\\n',df.isnull().sum())\n",
    "    return\n",
    "\n",
    "overlook(df)"
   ]
  },
  {
   "cell_type": "code",
   "execution_count": 9,
   "id": "16bf8011",
   "metadata": {},
   "outputs": [
    {
     "data": {
      "text/plain": [
       "Index(['fixed_acidity', 'volatile_acidity', 'citric_acid', 'residual_sugar',\n",
       "       'chlorides', 'free_sulfur_dioxide', 'total_sulfur_dioxide', 'density',\n",
       "       'pH', 'sulphates', 'alcohol', 'quality'],\n",
       "      dtype='object')"
      ]
     },
     "execution_count": 9,
     "metadata": {},
     "output_type": "execute_result"
    }
   ],
   "source": [
    "wine.dtypes.index"
   ]
  },
  {
   "cell_type": "code",
   "execution_count": 10,
   "id": "1de2f022",
   "metadata": {},
   "outputs": [
    {
     "name": "stdout",
     "output_type": "stream",
     "text": [
      "Index([], dtype='object')\n"
     ]
    }
   ],
   "source": [
    "categorical_columns = wine.dtypes[wine.dtypes == 'object'].index\n",
    "print(categorical_columns)"
   ]
  },
  {
   "cell_type": "code",
   "execution_count": 11,
   "id": "fac4000b",
   "metadata": {},
   "outputs": [
    {
     "data": {
      "image/png": "[encoded data removed]",
      "text/plain": [
       "<Figure size 3168x288 with 11 Axes>"
      ]
     },
     "metadata": {
      "needs_background": "light"
     },
     "output_type": "display_data"
    }
   ],
   "source": [
    "sns.pairplot(wine, x_vars=['fixed_acidity', 'volatile_acidity', 'citric_acid', 'residual_sugar',\n",
    "       'chlorides', 'free_sulfur_dioxide', 'total_sulfur_dioxide', 'density',\n",
    "       'pH', 'sulphates', 'alcohol'], y_vars='quality', height=4, aspect=1, kind='scatter')\n",
    "plt.show()"
   ]
  },
  {
   "cell_type": "code",
   "execution_count": 12,
   "id": "3ca3af9e",
   "metadata": {},
   "outputs": [
    {
     "data": {
      "text/plain": [
       "0"
      ]
     },
     "execution_count": 12,
     "metadata": {},
     "output_type": "execute_result"
    }
   ],
   "source": [
    "wine.quality.isnull().sum()"
   ]
  },
  {
   "cell_type": "code",
   "execution_count": 13,
   "id": "dc9840c4",
   "metadata": {},
   "outputs": [
    {
     "data": {
      "text/plain": [
       "5    681\n",
       "6    638\n",
       "7    199\n",
       "4     53\n",
       "8     18\n",
       "3     10\n",
       "Name: quality, dtype: int64"
      ]
     },
     "execution_count": 13,
     "metadata": {},
     "output_type": "execute_result"
    }
   ],
   "source": [
    "wine.quality.value_counts()"
   ]
  },
  {
   "cell_type": "code",
   "execution_count": 14,
   "id": "3c064502",
   "metadata": {},
   "outputs": [
    {
     "data": {
      "text/plain": [
       "6.0     138\n",
       "5.0     104\n",
       "10.0     79\n",
       "15.0     78\n",
       "12.0     75\n",
       "7.0      71\n",
       "9.0      62\n",
       "16.0     61\n",
       "17.0     60\n",
       "11.0     59\n",
       "13.0     57\n",
       "8.0      56\n",
       "14.0     50\n",
       "3.0      49\n",
       "18.0     46\n",
       "4.0      41\n",
       "21.0     41\n",
       "19.0     39\n",
       "24.0     34\n",
       "26.0     32\n",
       "23.0     32\n",
       "20.0     30\n",
       "27.0     29\n",
       "25.0     24\n",
       "29.0     23\n",
       "28.0     23\n",
       "22.0     22\n",
       "32.0     22\n",
       "31.0     20\n",
       "34.0     18\n",
       "30.0     16\n",
       "35.0     15\n",
       "36.0     11\n",
       "33.0     11\n",
       "38.0      9\n",
       "41.0      7\n",
       "40.0      6\n",
       "39.0      5\n",
       "48.0      4\n",
       "51.0      4\n",
       "45.0      3\n",
       "1.0       3\n",
       "43.0      3\n",
       "42.0      3\n",
       "52.0      3\n",
       "37.0      3\n",
       "68.0      2\n",
       "55.0      2\n",
       "50.0      2\n",
       "37.5      2\n",
       "53.0      1\n",
       "72.0      1\n",
       "57.0      1\n",
       "47.0      1\n",
       "5.5       1\n",
       "2.0       1\n",
       "46.0      1\n",
       "54.0      1\n",
       "40.5      1\n",
       "66.0      1\n",
       "Name: free_sulfur_dioxide, dtype: int64"
      ]
     },
     "execution_count": 14,
     "metadata": {},
     "output_type": "execute_result"
    }
   ],
   "source": [
    "wine.free_sulfur_dioxide.value_counts()"
   ]
  },
  {
   "cell_type": "code",
   "execution_count": 15,
   "id": "a82e3beb",
   "metadata": {},
   "outputs": [
    {
     "data": {
      "text/plain": [
       "0.00    132\n",
       "0.49     68\n",
       "0.24     51\n",
       "0.02     50\n",
       "0.26     38\n",
       "       ... \n",
       "0.72      1\n",
       "0.62      1\n",
       "0.75      1\n",
       "1.00      1\n",
       "0.78      1\n",
       "Name: citric_acid, Length: 80, dtype: int64"
      ]
     },
     "execution_count": 15,
     "metadata": {},
     "output_type": "execute_result"
    }
   ],
   "source": [
    "wine.citric_acid.value_counts()"
   ]
  },
  {
   "cell_type": "markdown",
   "id": "bd15b77f",
   "metadata": {},
   "source": [
    "## Quality\n"
   ]
  },
  {
   "cell_type": "code",
   "execution_count": 16,
   "id": "05da1e0f",
   "metadata": {},
   "outputs": [
    {
     "data": {
      "text/plain": [
       "Text(0.5, 1.0, 'Barplot of quality')"
      ]
     },
     "execution_count": 16,
     "metadata": {},
     "output_type": "execute_result"
    },
    {
     "data": {
      "image/png": "[encoded data removed]",
      "text/plain": [
       "<Figure size 432x288 with 1 Axes>"
      ]
     },
     "metadata": {
      "needs_background": "light"
     },
     "output_type": "display_data"
    }
   ],
   "source": [
    "sns.countplot(x = 'quality', data=wine, palette ='Set2')\n",
    "plt.title('Barplot of quality')"
   ]
  },
  {
   "cell_type": "markdown",
   "id": "4825bf2b",
   "metadata": {},
   "source": [
    "## fixed_acidity"
   ]
  },
  {
   "cell_type": "code",
   "execution_count": 17,
   "id": "eff6d7e0",
   "metadata": {},
   "outputs": [
    {
     "data": {
      "text/plain": [
       "Text(0.5, 1.0, 'Histogram of fixed_acidity')"
      ]
     },
     "execution_count": 17,
     "metadata": {},
     "output_type": "execute_result"
    },
    {
     "data": {
      "image/png": "[encoded data removed]",
      "text/plain": [
       "<Figure size 432x288 with 1 Axes>"
      ]
     },
     "metadata": {
      "needs_background": "light"
     },
     "output_type": "display_data"
    }
   ],
   "source": [
    "plt.hist(wine.fixed_acidity, bins = 'auto', facecolor = 'cyan')\n",
    "plt.xlabel('fixed_acidity')\n",
    "plt.ylabel('counts')\n",
    "plt.title('Histogram of fixed_acidity')"
   ]
  },
  {
   "cell_type": "code",
   "execution_count": 18,
   "id": "8664e433",
   "metadata": {},
   "outputs": [
    {
     "data": {
      "text/plain": [
       "Text(0.5, 1.0, 'Boxplot: fixed_acidity')"
      ]
     },
     "execution_count": 18,
     "metadata": {},
     "output_type": "execute_result"
    },
    {
     "data": {
      "image/png": "[encoded data removed]",
      "text/plain": [
       "<Figure size 432x288 with 1 Axes>"
      ]
     },
     "metadata": {
      "needs_background": "light"
     },
     "output_type": "display_data"
    }
   ],
   "source": [
    "wine['fixed_acidity'] = wine['fixed_acidity'].astype('float64')\n",
    "sns.boxplot(x=wine.fixed_acidity, color = 'red', orient= 'h')\n",
    "plt.title(\"Boxplot: fixed_acidity\")"
   ]
  },
  {
   "cell_type": "code",
   "execution_count": 19,
   "id": "ba31f09e",
   "metadata": {},
   "outputs": [
    {
     "data": {
      "text/plain": [
       "7.9"
      ]
     },
     "execution_count": 19,
     "metadata": {},
     "output_type": "execute_result"
    }
   ],
   "source": [
    "median = np.median(wine.fixed_acidity)\n",
    "median"
   ]
  },
  {
   "cell_type": "code",
   "execution_count": 20,
   "id": "593825e3",
   "metadata": {},
   "outputs": [
    {
     "data": {
      "text/plain": [
       "9.2"
      ]
     },
     "execution_count": 20,
     "metadata": {},
     "output_type": "execute_result"
    }
   ],
   "source": [
    "upper_quartile = np.percentile(wine.fixed_acidity, 75)\n",
    "upper_quartile"
   ]
  },
  {
   "cell_type": "code",
   "execution_count": 21,
   "id": "7de82a71",
   "metadata": {},
   "outputs": [
    {
     "data": {
      "text/plain": [
       "7.1"
      ]
     },
     "execution_count": 21,
     "metadata": {},
     "output_type": "execute_result"
    }
   ],
   "source": [
    "lower_quartile = np.percentile(wine.fixed_acidity, 25)\n",
    "lower_quartile"
   ]
  },
  {
   "cell_type": "code",
   "execution_count": 22,
   "id": "5436e7ec",
   "metadata": {},
   "outputs": [
    {
     "data": {
      "text/plain": [
       "2.0999999999999996"
      ]
     },
     "execution_count": 22,
     "metadata": {},
     "output_type": "execute_result"
    }
   ],
   "source": [
    "iqr = upper_quartile - lower_quartile\n",
    "iqr"
   ]
  },
  {
   "cell_type": "code",
   "execution_count": 23,
   "id": "a9079248",
   "metadata": {},
   "outputs": [
    {
     "data": {
      "text/plain": [
       "12.3"
      ]
     },
     "execution_count": 23,
     "metadata": {},
     "output_type": "execute_result"
    }
   ],
   "source": [
    "upper_whisker = wine.fixed_acidity[wine.fixed_acidity<=upper_quartile+1.5*iqr].max()\n",
    "upper_whisker"
   ]
  },
  {
   "cell_type": "code",
   "execution_count": 24,
   "id": "8a1340fd",
   "metadata": {},
   "outputs": [
    {
     "data": {
      "text/plain": [
       "4.6"
      ]
     },
     "execution_count": 24,
     "metadata": {},
     "output_type": "execute_result"
    }
   ],
   "source": [
    "lower_whisker = wine.fixed_acidity[wine.fixed_acidity>=lower_quartile-1.5*iqr].min()\n",
    "lower_whisker"
   ]
  },
  {
   "cell_type": "code",
   "execution_count": 25,
   "id": "0302c17d",
   "metadata": {},
   "outputs": [
    {
     "data": {
      "text/plain": [
       "49"
      ]
     },
     "execution_count": 25,
     "metadata": {},
     "output_type": "execute_result"
    }
   ],
   "source": [
    "kpl_IQR = wine.fixed_acidity.describe()['75%']-wine.fixed_acidity.describe()['25%']\n",
    "kpl_uplim = wine.fixed_acidity.describe()['75%']+1.5*kpl_IQR\n",
    "len(wine.fixed_acidity[wine.fixed_acidity > kpl_uplim])"
   ]
  },
  {
   "cell_type": "code",
   "execution_count": 26,
   "id": "242dedb4",
   "metadata": {},
   "outputs": [],
   "source": [
    "wine.fixed_acidity = np.where(wine.fixed_acidity>upper_whisker, upper_whisker, wine.fixed_acidity)"
   ]
  },
  {
   "cell_type": "code",
   "execution_count": 27,
   "id": "6ddffe1c",
   "metadata": {},
   "outputs": [
    {
     "data": {
      "text/plain": [
       "Text(0.5, 1.0, 'Boxplot: fixed_acidity')"
      ]
     },
     "execution_count": 27,
     "metadata": {},
     "output_type": "execute_result"
    },
    {
     "data": {
      "image/png": "[encoded data removed]",
      "text/plain": [
       "<Figure size 432x288 with 1 Axes>"
      ]
     },
     "metadata": {
      "needs_background": "light"
     },
     "output_type": "display_data"
    }
   ],
   "source": [
    "wine['fixed_acidity'] = wine['fixed_acidity'].astype('float64')\n",
    "sns.boxplot(x=wine.fixed_acidity, color = 'red', orient= 'h')\n",
    "plt.title(\"Boxplot: fixed_acidity\")"
   ]
  },
  {
   "cell_type": "code",
   "execution_count": 3,
   "id": "f5792f45",
   "metadata": {},
   "outputs": [
    {
     "ename": "NameError",
     "evalue": "name 'wine' is not defined",
     "output_type": "error",
     "traceback": [
      "\u001b[1;31m---------------------------------------------------------------------------\u001b[0m",
      "\u001b[1;31mNameError\u001b[0m                                 Traceback (most recent call last)",
      "Input \u001b[1;32mIn [3]\u001b[0m, in \u001b[0;36m<cell line: 1>\u001b[1;34m()\u001b[0m\n\u001b[1;32m----> 1\u001b[0m mod \u001b[38;5;241m=\u001b[39m ols(\u001b[38;5;124m'\u001b[39m\u001b[38;5;124mquality~fixed_acidity\u001b[39m\u001b[38;5;124m'\u001b[39m, data \u001b[38;5;241m=\u001b[39m \u001b[43mwine\u001b[49m)\u001b[38;5;241m.\u001b[39mfit()\n\u001b[0;32m      2\u001b[0m aov_table \u001b[38;5;241m=\u001b[39m sm\u001b[38;5;241m.\u001b[39mstats\u001b[38;5;241m.\u001b[39manova_lm(mod)\n\u001b[0;32m      3\u001b[0m \u001b[38;5;28mprint\u001b[39m(aov_table)\n",
      "\u001b[1;31mNameError\u001b[0m: name 'wine' is not defined"
     ]
    }
   ],
   "source": [
    "mod = ols('quality~fixed_acidity', data = wine).fit()\n",
    "aov_table = sm.stats.anova_lm(mod)\n",
    "print(aov_table)"
   ]
  },
  {
   "cell_type": "markdown",
   "id": "00849523",
   "metadata": {},
   "source": [
    "## volatile_acidity"
   ]
  },
  {
   "cell_type": "code",
   "execution_count": 29,
   "id": "98a5dd90",
   "metadata": {},
   "outputs": [
    {
     "data": {
      "text/plain": [
       "Text(0.5, 1.0, 'Histogram of volatile_acidity')"
      ]
     },
     "execution_count": 29,
     "metadata": {},
     "output_type": "execute_result"
    },
    {
     "data": {
      "image/png": "[encoded data removed]",
      "text/plain": [
       "<Figure size 432x288 with 1 Axes>"
      ]
     },
     "metadata": {
      "needs_background": "light"
     },
     "output_type": "display_data"
    }
   ],
   "source": [
    "plt.hist(wine.volatile_acidity, bins = 'auto', facecolor = 'maroon')\n",
    "plt.xlabel('volatile_acidity')\n",
    "plt.ylabel('counts')\n",
    "plt.title('Histogram of volatile_acidity')"
   ]
  },
  {
   "cell_type": "code",
   "execution_count": 30,
   "id": "de0e835b",
   "metadata": {},
   "outputs": [
    {
     "data": {
      "text/plain": [
       "Text(0.5, 1.0, 'Boxplot: volatile_acidity')"
      ]
     },
     "execution_count": 30,
     "metadata": {},
     "output_type": "execute_result"
    },
    {
     "data": {
      "image/png": "[encoded data removed]",
      "text/plain": [
       "<Figure size 432x288 with 1 Axes>"
      ]
     },
     "metadata": {
      "needs_background": "light"
     },
     "output_type": "display_data"
    }
   ],
   "source": [
    "wine['volatile_acidity'] = wine['volatile_acidity'].astype('float64')\n",
    "sns.boxplot(x=wine.volatile_acidity, color = 'orange', orient= 'h')\n",
    "plt.title(\"Boxplot: volatile_acidity\")"
   ]
  },
  {
   "cell_type": "code",
   "execution_count": 31,
   "id": "06fcbc61",
   "metadata": {},
   "outputs": [
    {
     "data": {
      "text/plain": [
       "19"
      ]
     },
     "execution_count": 31,
     "metadata": {},
     "output_type": "execute_result"
    }
   ],
   "source": [
    "kpl_IQR = wine.volatile_acidity.describe()['75%']-wine.volatile_acidity.describe()['25%']\n",
    "kpl_uplim = wine.volatile_acidity.describe()['75%']+1.5*kpl_IQR\n",
    "len(wine.volatile_acidity[wine.volatile_acidity > kpl_uplim])"
   ]
  },
  {
   "cell_type": "code",
   "execution_count": 32,
   "id": "85818f3a",
   "metadata": {},
   "outputs": [
    {
     "data": {
      "text/plain": [
       "0.52"
      ]
     },
     "execution_count": 32,
     "metadata": {},
     "output_type": "execute_result"
    }
   ],
   "source": [
    "median = np.median(wine.volatile_acidity)\n",
    "median"
   ]
  },
  {
   "cell_type": "code",
   "execution_count": 33,
   "id": "40de14c0",
   "metadata": {},
   "outputs": [
    {
     "data": {
      "text/plain": [
       "0.64"
      ]
     },
     "execution_count": 33,
     "metadata": {},
     "output_type": "execute_result"
    }
   ],
   "source": [
    "upper_quartile = np.percentile(wine.volatile_acidity, 75)\n",
    "upper_quartile"
   ]
  },
  {
   "cell_type": "code",
   "execution_count": 34,
   "id": "c3012be2",
   "metadata": {},
   "outputs": [
    {
     "data": {
      "text/plain": [
       "0.39"
      ]
     },
     "execution_count": 34,
     "metadata": {},
     "output_type": "execute_result"
    }
   ],
   "source": [
    "lower_quartile = np.percentile(wine.volatile_acidity, 25)\n",
    "lower_quartile"
   ]
  },
  {
   "cell_type": "code",
   "execution_count": 35,
   "id": "a09d0923",
   "metadata": {},
   "outputs": [
    {
     "data": {
      "text/plain": [
       "0.25"
      ]
     },
     "execution_count": 35,
     "metadata": {},
     "output_type": "execute_result"
    }
   ],
   "source": [
    "iqr = upper_quartile - lower_quartile\n",
    "iqr"
   ]
  },
  {
   "cell_type": "code",
   "execution_count": 36,
   "id": "dfe68223",
   "metadata": {},
   "outputs": [
    {
     "data": {
      "text/plain": [
       "1.01"
      ]
     },
     "execution_count": 36,
     "metadata": {},
     "output_type": "execute_result"
    }
   ],
   "source": [
    "upper_whisker = wine.volatile_acidity[wine.volatile_acidity<=upper_quartile+1.5*iqr].max()\n",
    "upper_whisker"
   ]
  },
  {
   "cell_type": "code",
   "execution_count": 37,
   "id": "288dd835",
   "metadata": {},
   "outputs": [
    {
     "data": {
      "text/plain": [
       "0.12"
      ]
     },
     "execution_count": 37,
     "metadata": {},
     "output_type": "execute_result"
    }
   ],
   "source": [
    "lower_whisker = wine.volatile_acidity[wine.volatile_acidity>=lower_quartile-1.5*iqr].min()\n",
    "lower_whisker"
   ]
  },
  {
   "cell_type": "code",
   "execution_count": 38,
   "id": "c6d5437a",
   "metadata": {},
   "outputs": [],
   "source": [
    "wine.volatile_acidity = np.where(wine.volatile_acidity>upper_whisker, upper_whisker, wine.volatile_acidity)"
   ]
  },
  {
   "cell_type": "code",
   "execution_count": 39,
   "id": "24f4ed8d",
   "metadata": {},
   "outputs": [
    {
     "data": {
      "text/plain": [
       "Text(0.5, 1.0, 'Boxplot: volatile_acidity')"
      ]
     },
     "execution_count": 39,
     "metadata": {},
     "output_type": "execute_result"
    },
    {
     "data": {
      "image/png": "[encoded data removed]",
      "text/plain": [
       "<Figure size 432x288 with 1 Axes>"
      ]
     },
     "metadata": {
      "needs_background": "light"
     },
     "output_type": "display_data"
    }
   ],
   "source": [
    "wine['volatile_acidity'] = wine['volatile_acidity'].astype('float64')\n",
    "sns.boxplot(x=wine.volatile_acidity, color = 'orange', orient= 'h')\n",
    "plt.title(\"Boxplot: volatile_acidity\")"
   ]
  },
  {
   "cell_type": "code",
   "execution_count": 40,
   "id": "d11aecf0",
   "metadata": {},
   "outputs": [
    {
     "name": "stdout",
     "output_type": "stream",
     "text": [
      "              df     sum_sq   mean_sq           F        PR(>F)\n",
      "quality      1.0   7.254067  7.254067  282.145757  1.958760e-58\n",
      "Residual  1597.0  41.059434  0.025710         NaN           NaN\n"
     ]
    }
   ],
   "source": [
    "mod = ols(' volatile_acidity~quality', data = wine).fit()\n",
    "aov_table = sm.stats.anova_lm(mod)\n",
    "print(aov_table)"
   ]
  },
  {
   "cell_type": "markdown",
   "id": "ea6dbdb8",
   "metadata": {},
   "source": [
    "## citric_acid"
   ]
  },
  {
   "cell_type": "code",
   "execution_count": 41,
   "id": "8ab176be",
   "metadata": {},
   "outputs": [
    {
     "data": {
      "text/plain": [
       "Text(0.5, 1.0, 'Histogram of citric_acid')"
      ]
     },
     "execution_count": 41,
     "metadata": {},
     "output_type": "execute_result"
    },
    {
     "data": {
      "image/png": "[encoded data removed]",
      "text/plain": [
       "<Figure size 432x288 with 1 Axes>"
      ]
     },
     "metadata": {
      "needs_background": "light"
     },
     "output_type": "display_data"
    }
   ],
   "source": [
    "plt.hist(wine.citric_acid, bins = 'auto', facecolor = 'grey')\n",
    "plt.xlabel('citric_acid')\n",
    "plt.ylabel('counts')\n",
    "plt.title('Histogram of citric_acid')"
   ]
  },
  {
   "cell_type": "code",
   "execution_count": 42,
   "id": "ba44b15a",
   "metadata": {},
   "outputs": [
    {
     "data": {
      "text/plain": [
       "Text(0.5, 1.0, 'Boxplot: citric_acid')"
      ]
     },
     "execution_count": 42,
     "metadata": {},
     "output_type": "execute_result"
    },
    {
     "data": {
      "image/png": "[encoded data removed]",
      "text/plain": [
       "<Figure size 432x288 with 1 Axes>"
      ]
     },
     "metadata": {
      "needs_background": "light"
     },
     "output_type": "display_data"
    }
   ],
   "source": [
    "wine['citric_acid'] = wine['citric_acid'].astype('float64')\n",
    "sns.boxplot(x=wine.citric_acid, color = 'green', orient= 'h')\n",
    "plt.title(\"Boxplot: citric_acid\")"
   ]
  },
  {
   "cell_type": "code",
   "execution_count": 43,
   "id": "94fe8a73",
   "metadata": {},
   "outputs": [
    {
     "data": {
      "text/plain": [
       "1"
      ]
     },
     "execution_count": 43,
     "metadata": {},
     "output_type": "execute_result"
    }
   ],
   "source": [
    "kpl_IQR = wine.citric_acid.describe()['75%']-wine.citric_acid.describe()['25%']\n",
    "kpl_uplim = wine.citric_acid.describe()['75%']+1.5*kpl_IQR\n",
    "len(wine.citric_acid[wine.citric_acid > kpl_uplim])"
   ]
  },
  {
   "cell_type": "code",
   "execution_count": 44,
   "id": "71ce1d45",
   "metadata": {},
   "outputs": [
    {
     "data": {
      "text/plain": [
       "0.26"
      ]
     },
     "execution_count": 44,
     "metadata": {},
     "output_type": "execute_result"
    }
   ],
   "source": [
    "median = np.median(wine.citric_acid)\n",
    "median"
   ]
  },
  {
   "cell_type": "code",
   "execution_count": 45,
   "id": "29f5ef8c",
   "metadata": {},
   "outputs": [
    {
     "data": {
      "text/plain": [
       "0.42"
      ]
     },
     "execution_count": 45,
     "metadata": {},
     "output_type": "execute_result"
    }
   ],
   "source": [
    "upper_quartile = np.percentile(wine.citric_acid, 75)\n",
    "upper_quartile"
   ]
  },
  {
   "cell_type": "code",
   "execution_count": 46,
   "id": "fa39a241",
   "metadata": {},
   "outputs": [
    {
     "data": {
      "text/plain": [
       "0.09"
      ]
     },
     "execution_count": 46,
     "metadata": {},
     "output_type": "execute_result"
    }
   ],
   "source": [
    "lower_quartile = np.percentile(wine.citric_acid, 25)\n",
    "lower_quartile"
   ]
  },
  {
   "cell_type": "code",
   "execution_count": 47,
   "id": "6e479784",
   "metadata": {},
   "outputs": [
    {
     "data": {
      "text/plain": [
       "0.32999999999999996"
      ]
     },
     "execution_count": 47,
     "metadata": {},
     "output_type": "execute_result"
    }
   ],
   "source": [
    "iqr = upper_quartile - lower_quartile\n",
    "iqr"
   ]
  },
  {
   "cell_type": "code",
   "execution_count": 48,
   "id": "422e2856",
   "metadata": {},
   "outputs": [
    {
     "data": {
      "text/plain": [
       "0.79"
      ]
     },
     "execution_count": 48,
     "metadata": {},
     "output_type": "execute_result"
    }
   ],
   "source": [
    "upper_whisker = wine.citric_acid[wine.citric_acid<=upper_quartile+1.5*iqr].max()\n",
    "upper_whisker"
   ]
  },
  {
   "cell_type": "code",
   "execution_count": 49,
   "id": "1d2fa922",
   "metadata": {},
   "outputs": [
    {
     "data": {
      "text/plain": [
       "0.0"
      ]
     },
     "execution_count": 49,
     "metadata": {},
     "output_type": "execute_result"
    }
   ],
   "source": [
    "lower_whisker = wine.citric_acid[wine.citric_acid>=lower_quartile-1.5*iqr].min()\n",
    "lower_whisker"
   ]
  },
  {
   "cell_type": "code",
   "execution_count": 50,
   "id": "b5c2a036",
   "metadata": {},
   "outputs": [],
   "source": [
    "wine.citric_acid = np.where(wine.citric_acid>upper_whisker, upper_whisker, wine.citric_acid)"
   ]
  },
  {
   "cell_type": "code",
   "execution_count": 51,
   "id": "56fdcbac",
   "metadata": {},
   "outputs": [
    {
     "data": {
      "text/plain": [
       "Text(0.5, 1.0, 'Boxplot: citric_acid')"
      ]
     },
     "execution_count": 51,
     "metadata": {},
     "output_type": "execute_result"
    },
    {
     "data": {
      "image/png": "[encoded data removed]",
      "text/plain": [
       "<Figure size 432x288 with 1 Axes>"
      ]
     },
     "metadata": {
      "needs_background": "light"
     },
     "output_type": "display_data"
    }
   ],
   "source": [
    "wine['citric_acid'] = wine['citric_acid'].astype('float64')\n",
    "sns.boxplot(x=wine.citric_acid, color = 'green', orient= 'h')\n",
    "plt.title(\"Boxplot: citric_acid\")"
   ]
  },
  {
   "cell_type": "code",
   "execution_count": 52,
   "id": "5ff5703a",
   "metadata": {},
   "outputs": [
    {
     "name": "stdout",
     "output_type": "stream",
     "text": [
      "              df     sum_sq   mean_sq          F        PR(>F)\n",
      "quality      1.0   3.145106  3.145106  87.759622  2.429171e-20\n",
      "Residual  1597.0  57.232855  0.035838        NaN           NaN\n"
     ]
    }
   ],
   "source": [
    "mod = ols(' citric_acid~quality', data = wine).fit()\n",
    "aov_table = sm.stats.anova_lm(mod)\n",
    "print(aov_table)"
   ]
  },
  {
   "cell_type": "markdown",
   "id": "661ebfa9",
   "metadata": {},
   "source": [
    "## residual_sugar"
   ]
  },
  {
   "cell_type": "code",
   "execution_count": 53,
   "id": "5c0309d9",
   "metadata": {},
   "outputs": [
    {
     "data": {
      "text/plain": [
       "Text(0.5, 1.0, 'Histogram of residual_sugar')"
      ]
     },
     "execution_count": 53,
     "metadata": {},
     "output_type": "execute_result"
    },
    {
     "data": {
      "image/png": "[encoded data removed]",
      "text/plain": [
       "<Figure size 432x288 with 1 Axes>"
      ]
     },
     "metadata": {
      "needs_background": "light"
     },
     "output_type": "display_data"
    }
   ],
   "source": [
    "plt.hist(wine.residual_sugar, bins = 'auto', facecolor = 'darkblue')\n",
    "plt.xlabel('residual_sugar')\n",
    "plt.ylabel('counts')\n",
    "plt.title('Histogram of residual_sugar')"
   ]
  },
  {
   "cell_type": "code",
   "execution_count": 54,
   "id": "a1a50f34",
   "metadata": {},
   "outputs": [
    {
     "data": {
      "text/plain": [
       "Text(0.5, 1.0, 'Boxplot: residual_sugar')"
      ]
     },
     "execution_count": 54,
     "metadata": {},
     "output_type": "execute_result"
    },
    {
     "data": {
      "image/png": "[encoded data removed]",
      "text/plain": [
       "<Figure size 432x288 with 1 Axes>"
      ]
     },
     "metadata": {
      "needs_background": "light"
     },
     "output_type": "display_data"
    }
   ],
   "source": [
    "wine['residual_sugar'] = wine['residual_sugar'].astype('float64')\n",
    "sns.boxplot(x=wine.residual_sugar, color = 'blue', orient= 'h')\n",
    "plt.title(\"Boxplot: residual_sugar\")"
   ]
  },
  {
   "cell_type": "code",
   "execution_count": 55,
   "id": "319c3a13",
   "metadata": {},
   "outputs": [
    {
     "data": {
      "text/plain": [
       "155"
      ]
     },
     "execution_count": 55,
     "metadata": {},
     "output_type": "execute_result"
    }
   ],
   "source": [
    "kpl_IQR = wine.residual_sugar.describe()['75%']-wine.residual_sugar.describe()['25%']\n",
    "kpl_uplim = wine.residual_sugar.describe()['75%']+1.5*kpl_IQR\n",
    "len(wine.residual_sugar[wine.residual_sugar > kpl_uplim])"
   ]
  },
  {
   "cell_type": "code",
   "execution_count": 56,
   "id": "e6a1cfea",
   "metadata": {},
   "outputs": [
    {
     "data": {
      "text/plain": [
       "2.2"
      ]
     },
     "execution_count": 56,
     "metadata": {},
     "output_type": "execute_result"
    }
   ],
   "source": [
    "median = np.median(wine.residual_sugar)\n",
    "median"
   ]
  },
  {
   "cell_type": "code",
   "execution_count": 57,
   "id": "e25dc091",
   "metadata": {},
   "outputs": [
    {
     "data": {
      "text/plain": [
       "2.6"
      ]
     },
     "execution_count": 57,
     "metadata": {},
     "output_type": "execute_result"
    }
   ],
   "source": [
    "upper_quartile = np.percentile(wine.residual_sugar, 75)\n",
    "upper_quartile"
   ]
  },
  {
   "cell_type": "code",
   "execution_count": 58,
   "id": "6dc30a2c",
   "metadata": {},
   "outputs": [
    {
     "data": {
      "text/plain": [
       "1.9"
      ]
     },
     "execution_count": 58,
     "metadata": {},
     "output_type": "execute_result"
    }
   ],
   "source": [
    "lower_quartile = np.percentile(wine.residual_sugar, 25)\n",
    "lower_quartile"
   ]
  },
  {
   "cell_type": "code",
   "execution_count": 59,
   "id": "e6cabe66",
   "metadata": {},
   "outputs": [
    {
     "data": {
      "text/plain": [
       "0.7000000000000002"
      ]
     },
     "execution_count": 59,
     "metadata": {},
     "output_type": "execute_result"
    }
   ],
   "source": [
    "iqr = upper_quartile - lower_quartile\n",
    "iqr"
   ]
  },
  {
   "cell_type": "code",
   "execution_count": 60,
   "id": "b834ca9c",
   "metadata": {},
   "outputs": [
    {
     "data": {
      "text/plain": [
       "3.65"
      ]
     },
     "execution_count": 60,
     "metadata": {},
     "output_type": "execute_result"
    }
   ],
   "source": [
    "upper_whisker = wine.residual_sugar[wine.residual_sugar<=upper_quartile+1.5*iqr].max()\n",
    "upper_whisker"
   ]
  },
  {
   "cell_type": "code",
   "execution_count": 61,
   "id": "f1c2d112",
   "metadata": {},
   "outputs": [
    {
     "data": {
      "text/plain": [
       "0.9"
      ]
     },
     "execution_count": 61,
     "metadata": {},
     "output_type": "execute_result"
    }
   ],
   "source": [
    "lower_whisker = wine.residual_sugar[wine.residual_sugar>=lower_quartile-1.5*iqr].min()\n",
    "lower_whisker"
   ]
  },
  {
   "cell_type": "code",
   "execution_count": 62,
   "id": "a7d66c63",
   "metadata": {},
   "outputs": [],
   "source": [
    "wine.residual_sugar = np.where(wine.residual_sugar>upper_whisker, upper_whisker, wine.residual_sugar)"
   ]
  },
  {
   "cell_type": "code",
   "execution_count": 63,
   "id": "b48b1d20",
   "metadata": {},
   "outputs": [
    {
     "data": {
      "text/plain": [
       "Text(0.5, 1.0, 'Boxplot: residual_sugar')"
      ]
     },
     "execution_count": 63,
     "metadata": {},
     "output_type": "execute_result"
    },
    {
     "data": {
      "image/png": "[encoded data removed]",
      "text/plain": [
       "<Figure size 432x288 with 1 Axes>"
      ]
     },
     "metadata": {
      "needs_background": "light"
     },
     "output_type": "display_data"
    }
   ],
   "source": [
    "wine['residual_sugar'] = wine['residual_sugar'].astype('float64')\n",
    "sns.boxplot(x=wine.residual_sugar, color = 'blue', orient= 'h')\n",
    "plt.title(\"Boxplot: residual_sugar\")"
   ]
  },
  {
   "cell_type": "code",
   "execution_count": 64,
   "id": "b5d1fe2e",
   "metadata": {},
   "outputs": [
    {
     "name": "stdout",
     "output_type": "stream",
     "text": [
      "              df      sum_sq   mean_sq         F    PR(>F)\n",
      "quality      1.0    0.335980  0.335980  0.904376  0.341755\n",
      "Residual  1597.0  593.292232  0.371504       NaN       NaN\n"
     ]
    }
   ],
   "source": [
    "mod = ols(' residual_sugar~quality', data = wine).fit()\n",
    "aov_table = sm.stats.anova_lm(mod)\n",
    "print(aov_table)"
   ]
  },
  {
   "cell_type": "markdown",
   "id": "739cbed4",
   "metadata": {},
   "source": [
    "## chlorides"
   ]
  },
  {
   "cell_type": "code",
   "execution_count": 65,
   "id": "7dc743b7",
   "metadata": {},
   "outputs": [
    {
     "data": {
      "text/plain": [
       "Text(0.5, 1.0, 'Histogram of chlorides')"
      ]
     },
     "execution_count": 65,
     "metadata": {},
     "output_type": "execute_result"
    },
    {
     "data": {
      "image/png": "[encoded data removed]",
      "text/plain": [
       "<Figure size 432x288 with 1 Axes>"
      ]
     },
     "metadata": {
      "needs_background": "light"
     },
     "output_type": "display_data"
    }
   ],
   "source": [
    "plt.hist(wine.chlorides, bins = 'auto', facecolor = 'olive')\n",
    "plt.xlabel('chlorides')\n",
    "plt.ylabel('counts')\n",
    "plt.title('Histogram of chlorides')"
   ]
  },
  {
   "cell_type": "code",
   "execution_count": 66,
   "id": "8689eca5",
   "metadata": {},
   "outputs": [
    {
     "data": {
      "text/plain": [
       "Text(0.5, 1.0, 'Boxplot: chlorides')"
      ]
     },
     "execution_count": 66,
     "metadata": {},
     "output_type": "execute_result"
    },
    {
     "data": {
      "image/png": "[encoded data removed]",
      "text/plain": [
       "<Figure size 432x288 with 1 Axes>"
      ]
     },
     "metadata": {
      "needs_background": "light"
     },
     "output_type": "display_data"
    }
   ],
   "source": [
    "wine['chlorides'] = wine['chlorides'].astype('float64')\n",
    "sns.boxplot(x=wine.chlorides, color = 'pink', orient= 'h')\n",
    "plt.title(\"Boxplot: chlorides\")"
   ]
  },
  {
   "cell_type": "code",
   "execution_count": 67,
   "id": "f66fd720",
   "metadata": {},
   "outputs": [
    {
     "data": {
      "text/plain": [
       "103"
      ]
     },
     "execution_count": 67,
     "metadata": {},
     "output_type": "execute_result"
    }
   ],
   "source": [
    "kpl_IQR = wine.chlorides.describe()['75%']-wine.chlorides.describe()['25%']\n",
    "kpl_uplim = wine.chlorides.describe()['75%']+1.5*kpl_IQR\n",
    "len(wine.chlorides[wine.chlorides > kpl_uplim])"
   ]
  },
  {
   "cell_type": "code",
   "execution_count": 68,
   "id": "4c818ddb",
   "metadata": {},
   "outputs": [
    {
     "data": {
      "text/plain": [
       "0.079"
      ]
     },
     "execution_count": 68,
     "metadata": {},
     "output_type": "execute_result"
    }
   ],
   "source": [
    "median = np.median(wine.chlorides)\n",
    "median"
   ]
  },
  {
   "cell_type": "code",
   "execution_count": 69,
   "id": "f607e694",
   "metadata": {},
   "outputs": [
    {
     "data": {
      "text/plain": [
       "0.09"
      ]
     },
     "execution_count": 69,
     "metadata": {},
     "output_type": "execute_result"
    }
   ],
   "source": [
    "upper_quartile = np.percentile(wine.chlorides, 75)\n",
    "upper_quartile"
   ]
  },
  {
   "cell_type": "code",
   "execution_count": 70,
   "id": "fa410468",
   "metadata": {},
   "outputs": [
    {
     "data": {
      "text/plain": [
       "0.07"
      ]
     },
     "execution_count": 70,
     "metadata": {},
     "output_type": "execute_result"
    }
   ],
   "source": [
    "lower_quartile = np.percentile(wine.chlorides, 25)\n",
    "lower_quartile"
   ]
  },
  {
   "cell_type": "code",
   "execution_count": 71,
   "id": "40c33c9b",
   "metadata": {},
   "outputs": [
    {
     "data": {
      "text/plain": [
       "0.01999999999999999"
      ]
     },
     "execution_count": 71,
     "metadata": {},
     "output_type": "execute_result"
    }
   ],
   "source": [
    "iqr = upper_quartile - lower_quartile\n",
    "iqr"
   ]
  },
  {
   "cell_type": "code",
   "execution_count": 72,
   "id": "827175f9",
   "metadata": {},
   "outputs": [
    {
     "data": {
      "text/plain": [
       "0.119"
      ]
     },
     "execution_count": 72,
     "metadata": {},
     "output_type": "execute_result"
    }
   ],
   "source": [
    "upper_whisker = wine.chlorides[wine.chlorides<=upper_quartile+1.5*iqr].max()\n",
    "upper_whisker"
   ]
  },
  {
   "cell_type": "code",
   "execution_count": 73,
   "id": "261d04ae",
   "metadata": {},
   "outputs": [
    {
     "data": {
      "text/plain": [
       "0.041"
      ]
     },
     "execution_count": 73,
     "metadata": {},
     "output_type": "execute_result"
    }
   ],
   "source": [
    "lower_whisker = wine.chlorides[wine.chlorides>=lower_quartile-1.5*iqr].min()\n",
    "lower_whisker"
   ]
  },
  {
   "cell_type": "code",
   "execution_count": 74,
   "id": "3acfbb4e",
   "metadata": {},
   "outputs": [],
   "source": [
    "wine.chlorides = np.where(wine.chlorides>upper_whisker, upper_whisker, wine.chlorides)\n",
    "wine.chlorides = np.where(wine.chlorides<lower_whisker, lower_whisker, wine.chlorides)\n"
   ]
  },
  {
   "cell_type": "code",
   "execution_count": 75,
   "id": "d1747c71",
   "metadata": {},
   "outputs": [
    {
     "data": {
      "text/plain": [
       "Text(0.5, 1.0, 'Boxplot: chlorides')"
      ]
     },
     "execution_count": 75,
     "metadata": {},
     "output_type": "execute_result"
    },
    {
     "data": {
      "image/png": "[encoded data removed]",
      "text/plain": [
       "<Figure size 432x288 with 1 Axes>"
      ]
     },
     "metadata": {
      "needs_background": "light"
     },
     "output_type": "display_data"
    }
   ],
   "source": [
    "wine['chlorides'] = wine['chlorides'].astype('float64')\n",
    "sns.boxplot(x=wine.chlorides, color = 'pink', orient= 'h')\n",
    "plt.title(\"Boxplot: chlorides\")"
   ]
  },
  {
   "cell_type": "code",
   "execution_count": 76,
   "id": "a5e5be9a",
   "metadata": {},
   "outputs": [
    {
     "name": "stdout",
     "output_type": "stream",
     "text": [
      "              df    sum_sq   mean_sq         F        PR(>F)\n",
      "quality      1.0  0.016766  0.016766  55.52704  1.502769e-13\n",
      "Residual  1597.0  0.482192  0.000302       NaN           NaN\n"
     ]
    }
   ],
   "source": [
    "mod = ols(' chlorides~quality', data = wine).fit()\n",
    "aov_table = sm.stats.anova_lm(mod)\n",
    "print(aov_table)"
   ]
  },
  {
   "cell_type": "markdown",
   "id": "4bff5dc4",
   "metadata": {},
   "source": [
    "## free_sulfur_dioxide"
   ]
  },
  {
   "cell_type": "code",
   "execution_count": 77,
   "id": "3c2df0dd",
   "metadata": {},
   "outputs": [
    {
     "data": {
      "text/plain": [
       "Text(0.5, 1.0, 'Histogram of free_sulfur_dioxide')"
      ]
     },
     "execution_count": 77,
     "metadata": {},
     "output_type": "execute_result"
    },
    {
     "data": {
      "image/png": "[encoded data removed]",
      "text/plain": [
       "<Figure size 432x288 with 1 Axes>"
      ]
     },
     "metadata": {
      "needs_background": "light"
     },
     "output_type": "display_data"
    }
   ],
   "source": [
    "plt.hist(wine.free_sulfur_dioxide, bins = 'auto', facecolor = 'lightblue')\n",
    "plt.xlabel('free_sulfur_dioxide')\n",
    "plt.ylabel('counts')\n",
    "plt.title('Histogram of free_sulfur_dioxide')"
   ]
  },
  {
   "cell_type": "code",
   "execution_count": 78,
   "id": "63234566",
   "metadata": {},
   "outputs": [
    {
     "data": {
      "text/plain": [
       "Text(0.5, 1.0, 'Boxplot: free_sulfur_dioxide')"
      ]
     },
     "execution_count": 78,
     "metadata": {},
     "output_type": "execute_result"
    },
    {
     "data": {
      "image/png": "[encoded data removed]",
      "text/plain": [
       "<Figure size 432x288 with 1 Axes>"
      ]
     },
     "metadata": {
      "needs_background": "light"
     },
     "output_type": "display_data"
    }
   ],
   "source": [
    "wine['free_sulfur_dioxide'] = wine['free_sulfur_dioxide'].astype('float64')\n",
    "sns.boxplot(x=wine.free_sulfur_dioxide, color = 'yellow', orient= 'h')\n",
    "plt.title(\"Boxplot: free_sulfur_dioxide\")"
   ]
  },
  {
   "cell_type": "code",
   "execution_count": 79,
   "id": "2f4d0ee0",
   "metadata": {},
   "outputs": [
    {
     "data": {
      "text/plain": [
       "30"
      ]
     },
     "execution_count": 79,
     "metadata": {},
     "output_type": "execute_result"
    }
   ],
   "source": [
    "kpl_IQR = wine.free_sulfur_dioxide.describe()['75%']-wine.free_sulfur_dioxide.describe()['25%']\n",
    "kpl_uplim = wine.free_sulfur_dioxide.describe()['75%']+1.5*kpl_IQR\n",
    "len(wine.free_sulfur_dioxide[wine.free_sulfur_dioxide > kpl_uplim])"
   ]
  },
  {
   "cell_type": "code",
   "execution_count": 80,
   "id": "c5754400",
   "metadata": {},
   "outputs": [
    {
     "data": {
      "text/plain": [
       "14.0"
      ]
     },
     "execution_count": 80,
     "metadata": {},
     "output_type": "execute_result"
    }
   ],
   "source": [
    "median = np.median(wine.free_sulfur_dioxide)\n",
    "median"
   ]
  },
  {
   "cell_type": "code",
   "execution_count": 81,
   "id": "6eb3753e",
   "metadata": {},
   "outputs": [
    {
     "data": {
      "text/plain": [
       "21.0"
      ]
     },
     "execution_count": 81,
     "metadata": {},
     "output_type": "execute_result"
    }
   ],
   "source": [
    "upper_quartile = np.percentile(wine.free_sulfur_dioxide, 75)\n",
    "upper_quartile"
   ]
  },
  {
   "cell_type": "code",
   "execution_count": 82,
   "id": "a3ccfab5",
   "metadata": {},
   "outputs": [
    {
     "data": {
      "text/plain": [
       "7.0"
      ]
     },
     "execution_count": 82,
     "metadata": {},
     "output_type": "execute_result"
    }
   ],
   "source": [
    "lower_quartile = np.percentile(wine.free_sulfur_dioxide, 25)\n",
    "lower_quartile"
   ]
  },
  {
   "cell_type": "code",
   "execution_count": 83,
   "id": "0f7a1e38",
   "metadata": {},
   "outputs": [
    {
     "data": {
      "text/plain": [
       "14.0"
      ]
     },
     "execution_count": 83,
     "metadata": {},
     "output_type": "execute_result"
    }
   ],
   "source": [
    "iqr = upper_quartile - lower_quartile\n",
    "iqr"
   ]
  },
  {
   "cell_type": "code",
   "execution_count": 84,
   "id": "1e9f0bd9",
   "metadata": {},
   "outputs": [
    {
     "data": {
      "text/plain": [
       "42.0"
      ]
     },
     "execution_count": 84,
     "metadata": {},
     "output_type": "execute_result"
    }
   ],
   "source": [
    "upper_whisker = wine.free_sulfur_dioxide[wine.free_sulfur_dioxide<=upper_quartile+1.5*iqr].max()\n",
    "upper_whisker"
   ]
  },
  {
   "cell_type": "code",
   "execution_count": 85,
   "id": "9d1c21c8",
   "metadata": {},
   "outputs": [
    {
     "data": {
      "text/plain": [
       "1.0"
      ]
     },
     "execution_count": 85,
     "metadata": {},
     "output_type": "execute_result"
    }
   ],
   "source": [
    "lower_whisker = wine.free_sulfur_dioxide[wine.free_sulfur_dioxide>=lower_quartile-1.5*iqr].min()\n",
    "lower_whisker"
   ]
  },
  {
   "cell_type": "code",
   "execution_count": 86,
   "id": "c724294a",
   "metadata": {},
   "outputs": [],
   "source": [
    "wine.free_sulfur_dioxide = np.where(wine.free_sulfur_dioxide>upper_whisker, upper_whisker, wine.free_sulfur_dioxide)"
   ]
  },
  {
   "cell_type": "code",
   "execution_count": 87,
   "id": "02234bf2",
   "metadata": {},
   "outputs": [
    {
     "data": {
      "text/plain": [
       "Text(0.5, 1.0, 'Boxplot: free_sulfur_dioxide')"
      ]
     },
     "execution_count": 87,
     "metadata": {},
     "output_type": "execute_result"
    },
    {
     "data": {
      "image/png": "[encoded data removed]",
      "text/plain": [
       "<Figure size 432x288 with 1 Axes>"
      ]
     },
     "metadata": {
      "needs_background": "light"
     },
     "output_type": "display_data"
    }
   ],
   "source": [
    "wine['free_sulfur_dioxide'] = wine['free_sulfur_dioxide'].astype('float64')\n",
    "sns.boxplot(x=wine.free_sulfur_dioxide, color = 'yellow', orient= 'h')\n",
    "plt.title(\"Boxplot: free_sulfur_dioxide\")"
   ]
  },
  {
   "cell_type": "code",
   "execution_count": 88,
   "id": "a95b117a",
   "metadata": {},
   "outputs": [
    {
     "name": "stdout",
     "output_type": "stream",
     "text": [
      "              df         sum_sq     mean_sq         F    PR(>F)\n",
      "quality      1.0     396.593887  396.593887  4.106013  0.042897\n",
      "Residual  1597.0  154251.928940   96.588559       NaN       NaN\n"
     ]
    }
   ],
   "source": [
    "mod = ols(' free_sulfur_dioxide~quality', data = wine).fit()\n",
    "aov_table = sm.stats.anova_lm(mod)\n",
    "print(aov_table)"
   ]
  },
  {
   "cell_type": "markdown",
   "id": "363f9153",
   "metadata": {},
   "source": [
    "## total_sulfur_dioxide"
   ]
  },
  {
   "cell_type": "code",
   "execution_count": 89,
   "id": "cef89f87",
   "metadata": {},
   "outputs": [
    {
     "data": {
      "text/plain": [
       "Text(0.5, 1.0, 'Histogram of total_sulfur_dioxide')"
      ]
     },
     "execution_count": 89,
     "metadata": {},
     "output_type": "execute_result"
    },
    {
     "data": {
      "image/png": "[encoded data removed]",
      "text/plain": [
       "<Figure size 432x288 with 1 Axes>"
      ]
     },
     "metadata": {
      "needs_background": "light"
     },
     "output_type": "display_data"
    }
   ],
   "source": [
    "plt.hist(wine.total_sulfur_dioxide, bins = 'auto', facecolor = 'lightblue')\n",
    "plt.xlabel('total_sulfur_dioxide')\n",
    "plt.ylabel('counts')\n",
    "plt.title('Histogram of total_sulfur_dioxide')"
   ]
  },
  {
   "cell_type": "code",
   "execution_count": 90,
   "id": "60b8ec02",
   "metadata": {},
   "outputs": [
    {
     "data": {
      "text/plain": [
       "Text(0.5, 1.0, 'Boxplot: total_sulfur_dioxide')"
      ]
     },
     "execution_count": 90,
     "metadata": {},
     "output_type": "execute_result"
    },
    {
     "data": {
      "image/png": "[encoded data removed]",
      "text/plain": [
       "<Figure size 432x288 with 1 Axes>"
      ]
     },
     "metadata": {
      "needs_background": "light"
     },
     "output_type": "display_data"
    }
   ],
   "source": [
    "wine['total_sulfur_dioxide'] = wine['total_sulfur_dioxide'].astype('float64')\n",
    "sns.boxplot(x=wine.total_sulfur_dioxide, color = 'darkblue', orient= 'h')\n",
    "plt.title(\"Boxplot: total_sulfur_dioxide\")"
   ]
  },
  {
   "cell_type": "code",
   "execution_count": 91,
   "id": "740381b4",
   "metadata": {},
   "outputs": [
    {
     "data": {
      "text/plain": [
       "55"
      ]
     },
     "execution_count": 91,
     "metadata": {},
     "output_type": "execute_result"
    }
   ],
   "source": [
    "kpl_IQR = wine.total_sulfur_dioxide.describe()['75%']-wine.total_sulfur_dioxide.describe()['25%']\n",
    "kpl_uplim = wine.total_sulfur_dioxide.describe()['75%']+1.5*kpl_IQR\n",
    "len(wine.total_sulfur_dioxide[wine.total_sulfur_dioxide > kpl_uplim])"
   ]
  },
  {
   "cell_type": "code",
   "execution_count": 92,
   "id": "446dc8e7",
   "metadata": {},
   "outputs": [
    {
     "data": {
      "text/plain": [
       "38.0"
      ]
     },
     "execution_count": 92,
     "metadata": {},
     "output_type": "execute_result"
    }
   ],
   "source": [
    "median = np.median(wine.total_sulfur_dioxide)\n",
    "median"
   ]
  },
  {
   "cell_type": "code",
   "execution_count": 93,
   "id": "4e73cca8",
   "metadata": {},
   "outputs": [
    {
     "data": {
      "text/plain": [
       "62.0"
      ]
     },
     "execution_count": 93,
     "metadata": {},
     "output_type": "execute_result"
    }
   ],
   "source": [
    "upper_quartile = np.percentile(wine.total_sulfur_dioxide, 75)\n",
    "upper_quartile"
   ]
  },
  {
   "cell_type": "code",
   "execution_count": 94,
   "id": "ae13472b",
   "metadata": {},
   "outputs": [
    {
     "data": {
      "text/plain": [
       "22.0"
      ]
     },
     "execution_count": 94,
     "metadata": {},
     "output_type": "execute_result"
    }
   ],
   "source": [
    "lower_quartile = np.percentile(wine.total_sulfur_dioxide, 25)\n",
    "lower_quartile"
   ]
  },
  {
   "cell_type": "code",
   "execution_count": 95,
   "id": "abf7f6c6",
   "metadata": {},
   "outputs": [
    {
     "data": {
      "text/plain": [
       "40.0"
      ]
     },
     "execution_count": 95,
     "metadata": {},
     "output_type": "execute_result"
    }
   ],
   "source": [
    "iqr = upper_quartile - lower_quartile\n",
    "iqr"
   ]
  },
  {
   "cell_type": "code",
   "execution_count": 96,
   "id": "dce1d063",
   "metadata": {},
   "outputs": [
    {
     "data": {
      "text/plain": [
       "122.0"
      ]
     },
     "execution_count": 96,
     "metadata": {},
     "output_type": "execute_result"
    }
   ],
   "source": [
    "upper_whisker = wine.total_sulfur_dioxide[wine.total_sulfur_dioxide<=upper_quartile+1.5*iqr].max()\n",
    "upper_whisker"
   ]
  },
  {
   "cell_type": "code",
   "execution_count": 97,
   "id": "5a8d7198",
   "metadata": {},
   "outputs": [
    {
     "data": {
      "text/plain": [
       "6.0"
      ]
     },
     "execution_count": 97,
     "metadata": {},
     "output_type": "execute_result"
    }
   ],
   "source": [
    "lower_whisker = wine.total_sulfur_dioxide[wine.total_sulfur_dioxide>=lower_quartile-1.5*iqr].min()\n",
    "lower_whisker"
   ]
  },
  {
   "cell_type": "code",
   "execution_count": 98,
   "id": "2cf0717b",
   "metadata": {},
   "outputs": [],
   "source": [
    "wine.total_sulfur_dioxide = np.where(wine.total_sulfur_dioxide>upper_whisker, upper_whisker, wine.total_sulfur_dioxide)"
   ]
  },
  {
   "cell_type": "code",
   "execution_count": 99,
   "id": "3d0d793c",
   "metadata": {},
   "outputs": [
    {
     "data": {
      "text/plain": [
       "Text(0.5, 1.0, 'Boxplot: total_sulfur_dioxide')"
      ]
     },
     "execution_count": 99,
     "metadata": {},
     "output_type": "execute_result"
    },
    {
     "data": {
      "image/png": "[encoded data removed]",
      "text/plain": [
       "<Figure size 432x288 with 1 Axes>"
      ]
     },
     "metadata": {
      "needs_background": "light"
     },
     "output_type": "display_data"
    }
   ],
   "source": [
    "wine['total_sulfur_dioxide'] = wine['total_sulfur_dioxide'].astype('float64')\n",
    "sns.boxplot(x=wine.total_sulfur_dioxide, color = 'darkblue', orient= 'h')\n",
    "plt.title(\"Boxplot: total_sulfur_dioxide\")"
   ]
  },
  {
   "cell_type": "code",
   "execution_count": 100,
   "id": "5f04a8b6",
   "metadata": {},
   "outputs": [
    {
     "name": "stdout",
     "output_type": "stream",
     "text": [
      "              df        sum_sq       mean_sq          F        PR(>F)\n",
      "quality      1.0  5.988455e+04  59884.546892  67.615639  4.068451e-16\n",
      "Residual  1597.0  1.414401e+06    885.661185        NaN           NaN\n"
     ]
    }
   ],
   "source": [
    "mod = ols(' total_sulfur_dioxide~quality', data = wine).fit()\n",
    "aov_table = sm.stats.anova_lm(mod)\n",
    "print(aov_table)"
   ]
  },
  {
   "cell_type": "markdown",
   "id": "2f3da123",
   "metadata": {},
   "source": [
    "## density"
   ]
  },
  {
   "cell_type": "code",
   "execution_count": 101,
   "id": "68743f03",
   "metadata": {},
   "outputs": [
    {
     "data": {
      "text/plain": [
       "0.99720    36\n",
       "0.99680    35\n",
       "0.99760    35\n",
       "0.99800    29\n",
       "0.99620    28\n",
       "           ..\n",
       "0.99684     1\n",
       "0.99764     1\n",
       "0.99473     1\n",
       "0.99320     1\n",
       "0.99651     1\n",
       "Name: density, Length: 436, dtype: int64"
      ]
     },
     "execution_count": 101,
     "metadata": {},
     "output_type": "execute_result"
    }
   ],
   "source": [
    "wine.density.value_counts()"
   ]
  },
  {
   "cell_type": "code",
   "execution_count": 102,
   "id": "4e810318",
   "metadata": {},
   "outputs": [
    {
     "data": {
      "text/plain": [
       "Text(0.5, 1.0, 'Histogram of density')"
      ]
     },
     "execution_count": 102,
     "metadata": {},
     "output_type": "execute_result"
    },
    {
     "data": {
      "image/png": "[encoded data removed]",
      "text/plain": [
       "<Figure size 432x288 with 1 Axes>"
      ]
     },
     "metadata": {
      "needs_background": "light"
     },
     "output_type": "display_data"
    }
   ],
   "source": [
    "plt.hist(wine.density, bins = 'auto', facecolor = 'lime')\n",
    "plt.xlabel('density')\n",
    "plt.ylabel('counts')\n",
    "plt.title('Histogram of density')"
   ]
  },
  {
   "cell_type": "code",
   "execution_count": 103,
   "id": "9e064a4e",
   "metadata": {},
   "outputs": [
    {
     "data": {
      "text/plain": [
       "Text(0.5, 1.0, 'Boxplot: density')"
      ]
     },
     "execution_count": 103,
     "metadata": {},
     "output_type": "execute_result"
    },
    {
     "data": {
      "image/png": "[encoded data removed]",
      "text/plain": [
       "<Figure size 432x288 with 1 Axes>"
      ]
     },
     "metadata": {
      "needs_background": "light"
     },
     "output_type": "display_data"
    }
   ],
   "source": [
    "wine['density'] = wine['density'].astype('float64')\n",
    "sns.boxplot(x=wine.density, color = 'lime', orient= 'h')\n",
    "plt.title(\"Boxplot: density\")"
   ]
  },
  {
   "cell_type": "code",
   "execution_count": 104,
   "id": "f5d2e909",
   "metadata": {},
   "outputs": [
    {
     "data": {
      "text/plain": [
       "24"
      ]
     },
     "execution_count": 104,
     "metadata": {},
     "output_type": "execute_result"
    }
   ],
   "source": [
    "kpl_IQR = wine.density.describe()['75%']-wine.density.describe()['25%']\n",
    "kpl_uplim = wine.density.describe()['75%']+1.5*kpl_IQR\n",
    "len(wine.density[wine.density > kpl_uplim])"
   ]
  },
  {
   "cell_type": "code",
   "execution_count": 105,
   "id": "616ebeca",
   "metadata": {},
   "outputs": [
    {
     "data": {
      "text/plain": [
       "0.99675"
      ]
     },
     "execution_count": 105,
     "metadata": {},
     "output_type": "execute_result"
    }
   ],
   "source": [
    "median = np.median(wine.density)\n",
    "median"
   ]
  },
  {
   "cell_type": "code",
   "execution_count": 106,
   "id": "190bc3bb",
   "metadata": {},
   "outputs": [
    {
     "data": {
      "text/plain": [
       "0.997835"
      ]
     },
     "execution_count": 106,
     "metadata": {},
     "output_type": "execute_result"
    }
   ],
   "source": [
    "upper_quartile = np.percentile(wine.density, 75)\n",
    "upper_quartile"
   ]
  },
  {
   "cell_type": "code",
   "execution_count": 107,
   "id": "df357ca9",
   "metadata": {},
   "outputs": [
    {
     "data": {
      "text/plain": [
       "0.9956"
      ]
     },
     "execution_count": 107,
     "metadata": {},
     "output_type": "execute_result"
    }
   ],
   "source": [
    "lower_quartile = np.percentile(wine.density, 25)\n",
    "lower_quartile"
   ]
  },
  {
   "cell_type": "code",
   "execution_count": 108,
   "id": "1d4661ca",
   "metadata": {},
   "outputs": [
    {
     "data": {
      "text/plain": [
       "0.002234999999999987"
      ]
     },
     "execution_count": 108,
     "metadata": {},
     "output_type": "execute_result"
    }
   ],
   "source": [
    "iqr = upper_quartile - lower_quartile\n",
    "iqr"
   ]
  },
  {
   "cell_type": "code",
   "execution_count": 109,
   "id": "9119e995",
   "metadata": {},
   "outputs": [
    {
     "data": {
      "text/plain": [
       "1.001"
      ]
     },
     "execution_count": 109,
     "metadata": {},
     "output_type": "execute_result"
    }
   ],
   "source": [
    "upper_whisker = wine.density[wine.density<=upper_quartile+1.5*iqr].max()\n",
    "upper_whisker"
   ]
  },
  {
   "cell_type": "code",
   "execution_count": 110,
   "id": "08e40712",
   "metadata": {},
   "outputs": [
    {
     "data": {
      "text/plain": [
       "0.99235"
      ]
     },
     "execution_count": 110,
     "metadata": {},
     "output_type": "execute_result"
    }
   ],
   "source": [
    "lower_whisker = wine.density[wine.density>=lower_quartile-1.5*iqr].min()\n",
    "lower_whisker"
   ]
  },
  {
   "cell_type": "code",
   "execution_count": 111,
   "id": "a3b9b038",
   "metadata": {},
   "outputs": [],
   "source": [
    "wine.density = np.where(wine.density>upper_whisker, upper_whisker, wine.density)\n",
    "wine.density = np.where(wine.density<lower_whisker, lower_whisker, wine.density)"
   ]
  },
  {
   "cell_type": "code",
   "execution_count": 112,
   "id": "af42bf68",
   "metadata": {},
   "outputs": [
    {
     "data": {
      "text/plain": [
       "Text(0.5, 1.0, 'Boxplot: density')"
      ]
     },
     "execution_count": 112,
     "metadata": {},
     "output_type": "execute_result"
    },
    {
     "data": {
      "image/png": "[encoded data removed]",
      "text/plain": [
       "<Figure size 432x288 with 1 Axes>"
      ]
     },
     "metadata": {
      "needs_background": "light"
     },
     "output_type": "display_data"
    }
   ],
   "source": [
    "wine['density'] = wine['density'].astype('float64')\n",
    "sns.boxplot(x=wine.density, color = 'lime', orient= 'h')\n",
    "plt.title(\"Boxplot: density\")"
   ]
  },
  {
   "cell_type": "code",
   "execution_count": 113,
   "id": "067eae7a",
   "metadata": {},
   "outputs": [
    {
     "name": "stdout",
     "output_type": "stream",
     "text": [
      "              df    sum_sq   mean_sq          F        PR(>F)\n",
      "quality      1.0  0.000161  0.000161  51.558041  1.061259e-12\n",
      "Residual  1597.0  0.004993  0.000003        NaN           NaN\n"
     ]
    }
   ],
   "source": [
    "mod = ols(' density~quality', data = wine).fit()\n",
    "aov_table = sm.stats.anova_lm(mod)\n",
    "print(aov_table)"
   ]
  },
  {
   "cell_type": "markdown",
   "id": "8534ae43",
   "metadata": {},
   "source": [
    "## pH"
   ]
  },
  {
   "cell_type": "code",
   "execution_count": 114,
   "id": "e4f0cb47",
   "metadata": {},
   "outputs": [
    {
     "data": {
      "text/plain": [
       "Text(0.5, 1.0, 'Histogram of density')"
      ]
     },
     "execution_count": 114,
     "metadata": {},
     "output_type": "execute_result"
    },
    {
     "data": {
      "image/png": "[encoded data removed]",
      "text/plain": [
       "<Figure size 432x288 with 1 Axes>"
      ]
     },
     "metadata": {
      "needs_background": "light"
     },
     "output_type": "display_data"
    }
   ],
   "source": [
    "plt.hist(wine.pH, bins = 'auto', facecolor = 'green')\n",
    "plt.xlabel('pH')\n",
    "plt.ylabel('counts')\n",
    "plt.title('Histogram of density')"
   ]
  },
  {
   "cell_type": "code",
   "execution_count": 115,
   "id": "296402af",
   "metadata": {},
   "outputs": [
    {
     "data": {
      "text/plain": [
       "Text(0.5, 1.0, 'Boxplot: pH')"
      ]
     },
     "execution_count": 115,
     "metadata": {},
     "output_type": "execute_result"
    },
    {
     "data": {
      "image/png": "[encoded data removed]",
      "text/plain": [
       "<Figure size 432x288 with 1 Axes>"
      ]
     },
     "metadata": {
      "needs_background": "light"
     },
     "output_type": "display_data"
    }
   ],
   "source": [
    "wine['pH'] = wine['pH'].astype('float64')\n",
    "sns.boxplot(x=wine.pH, color = 'maroon', orient= 'h')\n",
    "plt.title(\"Boxplot: pH\")"
   ]
  },
  {
   "cell_type": "code",
   "execution_count": 116,
   "id": "13864d34",
   "metadata": {},
   "outputs": [
    {
     "data": {
      "text/plain": [
       "21"
      ]
     },
     "execution_count": 116,
     "metadata": {},
     "output_type": "execute_result"
    }
   ],
   "source": [
    "kpl_IQR = wine.pH.describe()['75%']-wine.pH.describe()['25%']\n",
    "kpl_uplim = wine.pH.describe()['75%']+1.5*kpl_IQR\n",
    "len(wine.pH[wine.pH > kpl_uplim])\n"
   ]
  },
  {
   "cell_type": "code",
   "execution_count": 117,
   "id": "0295a291",
   "metadata": {},
   "outputs": [
    {
     "data": {
      "text/plain": [
       "3.31"
      ]
     },
     "execution_count": 117,
     "metadata": {},
     "output_type": "execute_result"
    }
   ],
   "source": [
    "median = np.median(wine.pH)\n",
    "median"
   ]
  },
  {
   "cell_type": "code",
   "execution_count": 118,
   "id": "f2f3d83e",
   "metadata": {},
   "outputs": [
    {
     "data": {
      "text/plain": [
       "3.4"
      ]
     },
     "execution_count": 118,
     "metadata": {},
     "output_type": "execute_result"
    }
   ],
   "source": [
    "upper_quartile = np.percentile(wine.pH, 75)\n",
    "upper_quartile"
   ]
  },
  {
   "cell_type": "code",
   "execution_count": 119,
   "id": "0d2ba17c",
   "metadata": {},
   "outputs": [
    {
     "data": {
      "text/plain": [
       "3.21"
      ]
     },
     "execution_count": 119,
     "metadata": {},
     "output_type": "execute_result"
    }
   ],
   "source": [
    "lower_quartile = np.percentile(wine.pH, 25)\n",
    "lower_quartile"
   ]
  },
  {
   "cell_type": "code",
   "execution_count": 120,
   "id": "c59e5be1",
   "metadata": {},
   "outputs": [
    {
     "data": {
      "text/plain": [
       "0.18999999999999995"
      ]
     },
     "execution_count": 120,
     "metadata": {},
     "output_type": "execute_result"
    }
   ],
   "source": [
    "iqr = upper_quartile - lower_quartile\n",
    "iqr"
   ]
  },
  {
   "cell_type": "code",
   "execution_count": 121,
   "id": "82ab1258",
   "metadata": {},
   "outputs": [
    {
     "data": {
      "text/plain": [
       "3.68"
      ]
     },
     "execution_count": 121,
     "metadata": {},
     "output_type": "execute_result"
    }
   ],
   "source": [
    "upper_whisker = wine.pH[wine.pH<=upper_quartile+1.5*iqr].max()\n",
    "upper_whisker"
   ]
  },
  {
   "cell_type": "code",
   "execution_count": 122,
   "id": "ca4e186e",
   "metadata": {},
   "outputs": [
    {
     "data": {
      "text/plain": [
       "2.93"
      ]
     },
     "execution_count": 122,
     "metadata": {},
     "output_type": "execute_result"
    }
   ],
   "source": [
    "lower_whisker = wine.pH[wine.pH>=lower_quartile-1.5*iqr].min()\n",
    "lower_whisker"
   ]
  },
  {
   "cell_type": "code",
   "execution_count": 123,
   "id": "f2a0271b",
   "metadata": {},
   "outputs": [],
   "source": [
    "wine.pH = np.where(wine.pH>upper_whisker, upper_whisker, wine.pH)\n",
    "wine.pH = np.where(wine.pH<lower_whisker, lower_whisker, wine.pH)"
   ]
  },
  {
   "cell_type": "code",
   "execution_count": 124,
   "id": "f33eaeac",
   "metadata": {},
   "outputs": [
    {
     "data": {
      "text/plain": [
       "Text(0.5, 1.0, 'Boxplot: pH')"
      ]
     },
     "execution_count": 124,
     "metadata": {},
     "output_type": "execute_result"
    },
    {
     "data": {
      "image/png": "[encoded data removed]",
      "text/plain": [
       "<Figure size 432x288 with 1 Axes>"
      ]
     },
     "metadata": {
      "needs_background": "light"
     },
     "output_type": "display_data"
    }
   ],
   "source": [
    "wine['pH'] = wine['pH'].astype('float64')\n",
    "sns.boxplot(x=wine.pH, color = 'maroon', orient= 'h')\n",
    "plt.title(\"Boxplot: pH\")"
   ]
  },
  {
   "cell_type": "code",
   "execution_count": 125,
   "id": "baf0e3f4",
   "metadata": {},
   "outputs": [
    {
     "name": "stdout",
     "output_type": "stream",
     "text": [
      "              df     sum_sq   mean_sq         F    PR(>F)\n",
      "quality      1.0   0.136271  0.136271  6.110378  0.013543\n",
      "Residual  1597.0  35.615653  0.022302       NaN       NaN\n"
     ]
    }
   ],
   "source": [
    "mod = ols(' pH~quality', data = wine).fit()\n",
    "aov_table = sm.stats.anova_lm(mod)\n",
    "print(aov_table)"
   ]
  },
  {
   "cell_type": "markdown",
   "id": "76492107",
   "metadata": {},
   "source": [
    "## sulphates"
   ]
  },
  {
   "cell_type": "code",
   "execution_count": 126,
   "id": "75c95c7b",
   "metadata": {},
   "outputs": [
    {
     "data": {
      "text/plain": [
       "Text(0.5, 1.0, 'Histogram of sulphates')"
      ]
     },
     "execution_count": 126,
     "metadata": {},
     "output_type": "execute_result"
    },
    {
     "data": {
      "image/png": "[encoded data removed]",
      "text/plain": [
       "<Figure size 432x288 with 1 Axes>"
      ]
     },
     "metadata": {
      "needs_background": "light"
     },
     "output_type": "display_data"
    }
   ],
   "source": [
    "plt.hist(wine.sulphates, bins = 'auto', facecolor = 'darkmagenta')\n",
    "plt.xlabel('sulphates')\n",
    "plt.ylabel('counts')\n",
    "plt.title('Histogram of sulphates')"
   ]
  },
  {
   "cell_type": "code",
   "execution_count": 127,
   "id": "30bcd65c",
   "metadata": {},
   "outputs": [
    {
     "data": {
      "text/plain": [
       "Text(0.5, 1.0, 'Boxplot: sulphates')"
      ]
     },
     "execution_count": 127,
     "metadata": {},
     "output_type": "execute_result"
    },
    {
     "data": {
      "image/png": "[encoded data removed]",
      "text/plain": [
       "<Figure size 432x288 with 1 Axes>"
      ]
     },
     "metadata": {
      "needs_background": "light"
     },
     "output_type": "display_data"
    }
   ],
   "source": [
    "wine['sulphates'] = wine['sulphates'].astype('float64')\n",
    "sns.boxplot(x=wine.sulphates, color = 'purple', orient= 'h')\n",
    "plt.title(\"Boxplot: sulphates\")"
   ]
  },
  {
   "cell_type": "code",
   "execution_count": 128,
   "id": "d9d9c62c",
   "metadata": {},
   "outputs": [
    {
     "data": {
      "text/plain": [
       "59"
      ]
     },
     "execution_count": 128,
     "metadata": {},
     "output_type": "execute_result"
    }
   ],
   "source": [
    "kpl_IQR = wine.sulphates.describe()['75%']-wine.sulphates.describe()['25%']\n",
    "kpl_uplim = wine.sulphates.describe()['75%']+1.5*kpl_IQR\n",
    "len(wine.sulphates[wine.sulphates > kpl_uplim])"
   ]
  },
  {
   "cell_type": "code",
   "execution_count": 129,
   "id": "b32b998f",
   "metadata": {},
   "outputs": [
    {
     "data": {
      "text/plain": [
       "0.62"
      ]
     },
     "execution_count": 129,
     "metadata": {},
     "output_type": "execute_result"
    }
   ],
   "source": [
    "median = np.median(wine.sulphates)\n",
    "median"
   ]
  },
  {
   "cell_type": "code",
   "execution_count": 130,
   "id": "f703dcaf",
   "metadata": {},
   "outputs": [
    {
     "data": {
      "text/plain": [
       "0.73"
      ]
     },
     "execution_count": 130,
     "metadata": {},
     "output_type": "execute_result"
    }
   ],
   "source": [
    "upper_quartile = np.percentile(wine.sulphates, 75)\n",
    "upper_quartile"
   ]
  },
  {
   "cell_type": "code",
   "execution_count": 131,
   "id": "38784d74",
   "metadata": {},
   "outputs": [
    {
     "data": {
      "text/plain": [
       "0.55"
      ]
     },
     "execution_count": 131,
     "metadata": {},
     "output_type": "execute_result"
    }
   ],
   "source": [
    "lower_quartile = np.percentile(wine.sulphates, 25)\n",
    "lower_quartile"
   ]
  },
  {
   "cell_type": "code",
   "execution_count": 132,
   "id": "712d3992",
   "metadata": {},
   "outputs": [
    {
     "data": {
      "text/plain": [
       "0.17999999999999994"
      ]
     },
     "execution_count": 132,
     "metadata": {},
     "output_type": "execute_result"
    }
   ],
   "source": [
    "iqr = upper_quartile - lower_quartile\n",
    "iqr"
   ]
  },
  {
   "cell_type": "code",
   "execution_count": 133,
   "id": "583ac12b",
   "metadata": {},
   "outputs": [
    {
     "data": {
      "text/plain": [
       "0.99"
      ]
     },
     "execution_count": 133,
     "metadata": {},
     "output_type": "execute_result"
    }
   ],
   "source": [
    "upper_whisker = wine.sulphates[wine.sulphates<=upper_quartile+1.5*iqr].max()\n",
    "upper_whisker"
   ]
  },
  {
   "cell_type": "code",
   "execution_count": 134,
   "id": "473890c3",
   "metadata": {},
   "outputs": [
    {
     "data": {
      "text/plain": [
       "0.33"
      ]
     },
     "execution_count": 134,
     "metadata": {},
     "output_type": "execute_result"
    }
   ],
   "source": [
    "lower_whisker = wine.sulphates[wine.sulphates>=lower_quartile-1.5*iqr].min()\n",
    "lower_whisker"
   ]
  },
  {
   "cell_type": "code",
   "execution_count": 135,
   "id": "8addc6f8",
   "metadata": {},
   "outputs": [],
   "source": [
    "wine.sulphates = np.where(wine.sulphates>upper_whisker, upper_whisker, wine.sulphates)"
   ]
  },
  {
   "cell_type": "code",
   "execution_count": 136,
   "id": "d81a9621",
   "metadata": {},
   "outputs": [
    {
     "data": {
      "text/plain": [
       "Text(0.5, 1.0, 'Boxplot: sulphates')"
      ]
     },
     "execution_count": 136,
     "metadata": {},
     "output_type": "execute_result"
    },
    {
     "data": {
      "image/png": "[encoded data removed]",
      "text/plain": [
       "<Figure size 432x288 with 1 Axes>"
      ]
     },
     "metadata": {
      "needs_background": "light"
     },
     "output_type": "display_data"
    }
   ],
   "source": [
    "wine['sulphates'] = wine['sulphates'].astype('float64')\n",
    "sns.boxplot(x=wine.sulphates, color = 'purple', orient= 'h')\n",
    "plt.title(\"Boxplot: sulphates\")"
   ]
  },
  {
   "cell_type": "code",
   "execution_count": 137,
   "id": "aa2ea702",
   "metadata": {},
   "outputs": [
    {
     "name": "stdout",
     "output_type": "stream",
     "text": [
      "              df     sum_sq   mean_sq           F        PR(>F)\n",
      "quality      1.0   3.247625  3.247625  196.640561  3.230858e-42\n",
      "Residual  1597.0  26.375313  0.016516         NaN           NaN\n"
     ]
    }
   ],
   "source": [
    "mod = ols(' sulphates~quality', data = wine).fit()\n",
    "aov_table = sm.stats.anova_lm(mod)\n",
    "print(aov_table)"
   ]
  },
  {
   "cell_type": "markdown",
   "id": "4b1d5bfb",
   "metadata": {},
   "source": [
    "## alcohol"
   ]
  },
  {
   "cell_type": "code",
   "execution_count": 138,
   "id": "da18734c",
   "metadata": {},
   "outputs": [
    {
     "data": {
      "text/plain": [
       "Text(0.5, 1.0, 'Histogram of alcohol')"
      ]
     },
     "execution_count": 138,
     "metadata": {},
     "output_type": "execute_result"
    },
    {
     "data": {
      "image/png": "[encoded data removed]",
      "text/plain": [
       "<Figure size 432x288 with 1 Axes>"
      ]
     },
     "metadata": {
      "needs_background": "light"
     },
     "output_type": "display_data"
    }
   ],
   "source": [
    "plt.hist(wine.alcohol, bins = 'auto', facecolor = 'darkcyan')\n",
    "plt.xlabel('alcohol')\n",
    "plt.ylabel('counts')\n",
    "plt.title('Histogram of alcohol')"
   ]
  },
  {
   "cell_type": "code",
   "execution_count": 139,
   "id": "6ad33951",
   "metadata": {},
   "outputs": [
    {
     "data": {
      "text/plain": [
       "Text(0.5, 1.0, 'Boxplot: alcohol')"
      ]
     },
     "execution_count": 139,
     "metadata": {},
     "output_type": "execute_result"
    },
    {
     "data": {
      "image/png": "[encoded data removed]",
      "text/plain": [
       "<Figure size 432x288 with 1 Axes>"
      ]
     },
     "metadata": {
      "needs_background": "light"
     },
     "output_type": "display_data"
    }
   ],
   "source": [
    "wine['alcohol'] = wine['alcohol'].astype('float64')\n",
    "sns.boxplot(x=wine.alcohol, color = 'cyan', orient= 'h')\n",
    "plt.title(\"Boxplot: alcohol\")"
   ]
  },
  {
   "cell_type": "code",
   "execution_count": 140,
   "id": "94c6a3fb",
   "metadata": {},
   "outputs": [
    {
     "data": {
      "text/plain": [
       "13"
      ]
     },
     "execution_count": 140,
     "metadata": {},
     "output_type": "execute_result"
    }
   ],
   "source": [
    "kpl_IQR = wine.alcohol.describe()['75%']-wine.alcohol.describe()['25%']\n",
    "kpl_uplim = wine.alcohol.describe()['75%']+1.5*kpl_IQR\n",
    "len(wine.alcohol[wine.alcohol > kpl_uplim])"
   ]
  },
  {
   "cell_type": "code",
   "execution_count": 141,
   "id": "0a185ba9",
   "metadata": {},
   "outputs": [
    {
     "data": {
      "text/plain": [
       "10.2"
      ]
     },
     "execution_count": 141,
     "metadata": {},
     "output_type": "execute_result"
    }
   ],
   "source": [
    "median = np.median(wine.alcohol)\n",
    "median"
   ]
  },
  {
   "cell_type": "code",
   "execution_count": 142,
   "id": "e13465c0",
   "metadata": {},
   "outputs": [
    {
     "data": {
      "text/plain": [
       "11.1"
      ]
     },
     "execution_count": 142,
     "metadata": {},
     "output_type": "execute_result"
    }
   ],
   "source": [
    "upper_quartile = np.percentile(wine.alcohol, 75)\n",
    "upper_quartile"
   ]
  },
  {
   "cell_type": "code",
   "execution_count": 143,
   "id": "e50569b8",
   "metadata": {},
   "outputs": [
    {
     "data": {
      "text/plain": [
       "9.5"
      ]
     },
     "execution_count": 143,
     "metadata": {},
     "output_type": "execute_result"
    }
   ],
   "source": [
    "lower_quartile = np.percentile(wine.alcohol, 25)\n",
    "lower_quartile"
   ]
  },
  {
   "cell_type": "code",
   "execution_count": 144,
   "id": "d5aedb20",
   "metadata": {},
   "outputs": [
    {
     "data": {
      "text/plain": [
       "1.5999999999999996"
      ]
     },
     "execution_count": 144,
     "metadata": {},
     "output_type": "execute_result"
    }
   ],
   "source": [
    "iqr = upper_quartile - lower_quartile\n",
    "iqr"
   ]
  },
  {
   "cell_type": "code",
   "execution_count": 145,
   "id": "ba31362b",
   "metadata": {},
   "outputs": [
    {
     "data": {
      "text/plain": [
       "13.5"
      ]
     },
     "execution_count": 145,
     "metadata": {},
     "output_type": "execute_result"
    }
   ],
   "source": [
    "upper_whisker = wine.alcohol[wine.alcohol<=upper_quartile+1.5*iqr].max()\n",
    "upper_whisker"
   ]
  },
  {
   "cell_type": "code",
   "execution_count": 146,
   "id": "72e632e3",
   "metadata": {},
   "outputs": [
    {
     "data": {
      "text/plain": [
       "8.4"
      ]
     },
     "execution_count": 146,
     "metadata": {},
     "output_type": "execute_result"
    }
   ],
   "source": [
    "lower_whisker = wine.alcohol[wine.alcohol>=lower_quartile-1.5*iqr].min()\n",
    "lower_whisker"
   ]
  },
  {
   "cell_type": "code",
   "execution_count": 147,
   "id": "0aa2a835",
   "metadata": {},
   "outputs": [],
   "source": [
    "wine.alcohol = np.where(wine.alcohol>upper_whisker, upper_whisker, wine.alcohol)"
   ]
  },
  {
   "cell_type": "code",
   "execution_count": 148,
   "id": "004ac4bb",
   "metadata": {},
   "outputs": [
    {
     "data": {
      "text/plain": [
       "Text(0.5, 1.0, 'Boxplot: alcohol')"
      ]
     },
     "execution_count": 148,
     "metadata": {},
     "output_type": "execute_result"
    },
    {
     "data": {
      "image/png": "[encoded data removed]",
      "text/plain": [
       "<Figure size 432x288 with 1 Axes>"
      ]
     },
     "metadata": {
      "needs_background": "light"
     },
     "output_type": "display_data"
    }
   ],
   "source": [
    "wine['alcohol'] = wine['alcohol'].astype('float64')\n",
    "sns.boxplot(x=wine.alcohol, color = 'cyan', orient= 'h')\n",
    "plt.title(\"Boxplot: alcohol\")"
   ]
  },
  {
   "cell_type": "code",
   "execution_count": 149,
   "id": "76c50422",
   "metadata": {},
   "outputs": [
    {
     "name": "stdout",
     "output_type": "stream",
     "text": [
      "              df       sum_sq     mean_sq           F        PR(>F)\n",
      "quality      1.0   407.182795  407.182795  474.379311  2.660937e-92\n",
      "Residual  1597.0  1370.782638    0.858349         NaN           NaN\n"
     ]
    }
   ],
   "source": [
    "mod = ols('alcohol ~quality', data = wine).fit()\n",
    "aov_table = sm.stats.anova_lm(mod)\n",
    "print(aov_table)"
   ]
  },
  {
   "cell_type": "code",
   "execution_count": 150,
   "id": "138605e5",
   "metadata": {},
   "outputs": [],
   "source": [
    "wine = wine.drop(['residual_sugar'], axis = 1)"
   ]
  },
  {
   "cell_type": "code",
   "execution_count": 151,
   "id": "bd55e0f3",
   "metadata": {},
   "outputs": [
    {
     "name": "stdout",
     "output_type": "stream",
     "text": [
      "<class 'pandas.core.frame.DataFrame'>\n",
      "RangeIndex: 1599 entries, 0 to 1598\n",
      "Data columns (total 11 columns):\n",
      " #   Column                Non-Null Count  Dtype  \n",
      "---  ------                --------------  -----  \n",
      " 0   fixed_acidity         1599 non-null   float64\n",
      " 1   volatile_acidity      1599 non-null   float64\n",
      " 2   citric_acid           1599 non-null   float64\n",
      " 3   chlorides             1599 non-null   float64\n",
      " 4   free_sulfur_dioxide   1599 non-null   float64\n",
      " 5   total_sulfur_dioxide  1599 non-null   float64\n",
      " 6   density               1599 non-null   float64\n",
      " 7   pH                    1599 non-null   float64\n",
      " 8   sulphates             1599 non-null   float64\n",
      " 9   alcohol               1599 non-null   float64\n",
      " 10  quality               1599 non-null   int64  \n",
      "dtypes: float64(10), int64(1)\n",
      "memory usage: 137.5 KB\n"
     ]
    }
   ],
   "source": [
    "wine.info()"
   ]
  },
  {
   "cell_type": "code",
   "execution_count": 152,
   "id": "d20cd83b",
   "metadata": {},
   "outputs": [],
   "source": [
    "x = df.iloc[:, [0,1,2,3,4,5,6,7,8,9]]"
   ]
  },
  {
   "cell_type": "code",
   "execution_count": 153,
   "id": "f81ae0c2",
   "metadata": {},
   "outputs": [],
   "source": [
    "vif_data = pd.DataFrame()\n",
    "vif_data[\"features\"] = x.columns"
   ]
  },
  {
   "cell_type": "code",
   "execution_count": 154,
   "id": "b09eaf4b",
   "metadata": {},
   "outputs": [],
   "source": [
    "vif_data[\"VIF\"] = [variance_inflation_factor(x.values, i)\n",
    "                           for i in range(len(x.columns))]"
   ]
  },
  {
   "cell_type": "code",
   "execution_count": 155,
   "id": "7af0be01",
   "metadata": {},
   "outputs": [
    {
     "name": "stdout",
     "output_type": "stream",
     "text": [
      "               features          VIF\n",
      "0         fixed_acidity    79.525337\n",
      "1      volatile_acidity    17.857388\n",
      "2           citric_acid     8.488147\n",
      "3        residual_sugar    17.757670\n",
      "4             chlorides    26.548635\n",
      "5   free_sulfur_dioxide     7.186833\n",
      "6  total_sulfur_dioxide     7.155027\n",
      "7               density  1507.274541\n",
      "8                    pH  1068.228017\n",
      "9             sulphates    28.233269\n"
     ]
    }
   ],
   "source": [
    "print(vif_data)"
   ]
  },
  {
   "cell_type": "code",
   "execution_count": 156,
   "id": "b39353d3",
   "metadata": {},
   "outputs": [],
   "source": [
    "wine = wine.drop(['fixed_acidity','volatile_acidity','chlorides','density','pH','sulphates'], axis=1)"
   ]
  },
  {
   "cell_type": "markdown",
   "id": "9ccca292",
   "metadata": {},
   "source": [
    "## corelation"
   ]
  },
  {
   "cell_type": "code",
   "execution_count": 157,
   "id": "0f800262",
   "metadata": {},
   "outputs": [],
   "source": [
    "countinue_column = wine.select_dtypes(include= 'number')"
   ]
  },
  {
   "cell_type": "code",
   "execution_count": 158,
   "id": "9d720a2a",
   "metadata": {},
   "outputs": [
    {
     "name": "stdout",
     "output_type": "stream",
     "text": [
      "      citric_acid  free_sulfur_dioxide  total_sulfur_dioxide  alcohol  quality\n",
      "0            0.00                 11.0                  34.0      9.4        5\n",
      "1            0.00                 25.0                  67.0      9.8        5\n",
      "2            0.04                 15.0                  54.0      9.8        5\n",
      "3            0.56                 17.0                  60.0      9.8        6\n",
      "4            0.00                 11.0                  34.0      9.4        5\n",
      "...           ...                  ...                   ...      ...      ...\n",
      "1594         0.08                 32.0                  44.0     10.5        5\n",
      "1595         0.10                 39.0                  51.0     11.2        6\n",
      "1596         0.13                 29.0                  40.0     11.0        6\n",
      "1597         0.12                 32.0                  44.0     10.2        5\n",
      "1598         0.47                 18.0                  42.0     11.0        6\n",
      "\n",
      "[1599 rows x 5 columns]\n"
     ]
    }
   ],
   "source": [
    "print(countinue_column)"
   ]
  },
  {
   "cell_type": "code",
   "execution_count": 159,
   "id": "c0975011",
   "metadata": {},
   "outputs": [
    {
     "data": {
      "text/html": [
       "<div>\n",
       "<style scoped>\n",
       "    .dataframe tbody tr th:only-of-type {\n",
       "        vertical-align: middle;\n",
       "    }\n",
       "\n",
       "    .dataframe tbody tr th {\n",
       "        vertical-align: top;\n",
       "    }\n",
       "\n",
       "    .dataframe thead th {\n",
       "        text-align: right;\n",
       "    }\n",
       "</style>\n",
       "<table border=\"1\" class=\"dataframe\">\n",
       "  <thead>\n",
       "    <tr style=\"text-align: right;\">\n",
       "      <th></th>\n",
       "      <th>citric_acid</th>\n",
       "      <th>free_sulfur_dioxide</th>\n",
       "      <th>total_sulfur_dioxide</th>\n",
       "      <th>alcohol</th>\n",
       "      <th>quality</th>\n",
       "    </tr>\n",
       "  </thead>\n",
       "  <tbody>\n",
       "    <tr>\n",
       "      <th>citric_acid</th>\n",
       "      <td>1.000000</td>\n",
       "      <td>-0.060880</td>\n",
       "      <td>0.018992</td>\n",
       "      <td>0.112164</td>\n",
       "      <td>0.228233</td>\n",
       "    </tr>\n",
       "    <tr>\n",
       "      <th>free_sulfur_dioxide</th>\n",
       "      <td>-0.060880</td>\n",
       "      <td>1.000000</td>\n",
       "      <td>0.687184</td>\n",
       "      <td>-0.068099</td>\n",
       "      <td>-0.050641</td>\n",
       "    </tr>\n",
       "    <tr>\n",
       "      <th>total_sulfur_dioxide</th>\n",
       "      <td>0.018992</td>\n",
       "      <td>0.687184</td>\n",
       "      <td>1.000000</td>\n",
       "      <td>-0.228860</td>\n",
       "      <td>-0.201542</td>\n",
       "    </tr>\n",
       "    <tr>\n",
       "      <th>alcohol</th>\n",
       "      <td>0.112164</td>\n",
       "      <td>-0.068099</td>\n",
       "      <td>-0.228860</td>\n",
       "      <td>1.000000</td>\n",
       "      <td>0.478556</td>\n",
       "    </tr>\n",
       "    <tr>\n",
       "      <th>quality</th>\n",
       "      <td>0.228233</td>\n",
       "      <td>-0.050641</td>\n",
       "      <td>-0.201542</td>\n",
       "      <td>0.478556</td>\n",
       "      <td>1.000000</td>\n",
       "    </tr>\n",
       "  </tbody>\n",
       "</table>\n",
       "</div>"
      ],
      "text/plain": [
       "                      citric_acid  free_sulfur_dioxide  total_sulfur_dioxide  \\\n",
       "citric_acid              1.000000            -0.060880              0.018992   \n",
       "free_sulfur_dioxide     -0.060880             1.000000              0.687184   \n",
       "total_sulfur_dioxide     0.018992             0.687184              1.000000   \n",
       "alcohol                  0.112164            -0.068099             -0.228860   \n",
       "quality                  0.228233            -0.050641             -0.201542   \n",
       "\n",
       "                       alcohol   quality  \n",
       "citric_acid           0.112164  0.228233  \n",
       "free_sulfur_dioxide  -0.068099 -0.050641  \n",
       "total_sulfur_dioxide -0.228860 -0.201542  \n",
       "alcohol               1.000000  0.478556  \n",
       "quality               0.478556  1.000000  "
      ]
     },
     "execution_count": 159,
     "metadata": {},
     "output_type": "execute_result"
    }
   ],
   "source": [
    "countinue_column.corr()"
   ]
  },
  {
   "cell_type": "code",
   "execution_count": 160,
   "id": "dee2b0f9",
   "metadata": {},
   "outputs": [
    {
     "data": {
      "text/plain": [
       "<AxesSubplot:>"
      ]
     },
     "execution_count": 160,
     "metadata": {},
     "output_type": "execute_result"
    },
    {
     "data": {
      "image/png": "[encoded data removed]",
      "text/plain": [
       "<Figure size 720x720 with 2 Axes>"
      ]
     },
     "metadata": {
      "needs_background": "light"
     },
     "output_type": "display_data"
    }
   ],
   "source": [
    "plt.figure(figsize=(10,10))\n",
    "sns.heatmap(countinue_column.corr(), annot=True, vmin= -1, vmax=1, cmap = 'icefire')"
   ]
  },
  {
   "cell_type": "code",
   "execution_count": 161,
   "id": "5aecdd6b",
   "metadata": {},
   "outputs": [
    {
     "name": "stdout",
     "output_type": "stream",
     "text": [
      "<class 'pandas.core.frame.DataFrame'>\n",
      "RangeIndex: 1599 entries, 0 to 1598\n",
      "Data columns (total 5 columns):\n",
      " #   Column                Non-Null Count  Dtype  \n",
      "---  ------                --------------  -----  \n",
      " 0   citric_acid           1599 non-null   float64\n",
      " 1   free_sulfur_dioxide   1599 non-null   float64\n",
      " 2   total_sulfur_dioxide  1599 non-null   float64\n",
      " 3   alcohol               1599 non-null   float64\n",
      " 4   quality               1599 non-null   int64  \n",
      "dtypes: float64(4), int64(1)\n",
      "memory usage: 62.6 KB\n"
     ]
    }
   ],
   "source": [
    "wine.info()"
   ]
  },
  {
   "cell_type": "code",
   "execution_count": 162,
   "id": "b29fed1d",
   "metadata": {},
   "outputs": [],
   "source": [
    "X = df.loc[:, df.columns != 'quality']\n",
    "y = df.loc[:, df.columns == 'quality']"
   ]
  },
  {
   "cell_type": "code",
   "execution_count": 163,
   "id": "b0536933",
   "metadata": {},
   "outputs": [],
   "source": [
    "scaler = MinMaxScaler()\n",
    "X = scaler.fit_transform(X)"
   ]
  },
  {
   "cell_type": "markdown",
   "id": "b230b935",
   "metadata": {},
   "source": [
    "## One over Rest model"
   ]
  },
  {
   "cell_type": "code",
   "execution_count": 164,
   "id": "bb2b7f4a",
   "metadata": {},
   "outputs": [
    {
     "name": "stdout",
     "output_type": "stream",
     "text": [
      "oaa= 0.6035021888680425\n"
     ]
    }
   ],
   "source": [
    "wine = LogisticRegression(multi_class= 'ovr')\n",
    "wine.fit(X,y)\n",
    "print(\"oaa=\", wine.score(X,y))"
   ]
  },
  {
   "cell_type": "code",
   "execution_count": 165,
   "id": "3826e17d",
   "metadata": {},
   "outputs": [
    {
     "name": "stdout",
     "output_type": "stream",
     "text": [
      "ovr\n",
      "\n",
      "[[  0   0   9   1   0   0]\n",
      " [  0   0  39  13   1   0]\n",
      " [  0   0 540 140   1   0]\n",
      " [  0   0 229 397  12   0]\n",
      " [  0   0  12 159  28   0]\n",
      " [  0   0   0  13   5   0]]\n",
      "              precision    recall  f1-score   support\n",
      "\n",
      "           3       0.00      0.00      0.00        10\n",
      "           4       0.00      0.00      0.00        53\n",
      "           5       0.65      0.79      0.72       681\n",
      "           6       0.55      0.62      0.58       638\n",
      "           7       0.60      0.14      0.23       199\n",
      "           8       0.00      0.00      0.00        18\n",
      "\n",
      "    accuracy                           0.60      1599\n",
      "   macro avg       0.30      0.26      0.25      1599\n",
      "weighted avg       0.57      0.60      0.57      1599\n",
      "\n"
     ]
    }
   ],
   "source": [
    "pred_ovr = wine.predict(X)\n",
    "print(\"ovr\\n\")\n",
    "print(metrics.confusion_matrix(y, pred_ovr))\n",
    "print(metrics.classification_report(y, pred_ovr))"
   ]
  },
  {
   "cell_type": "markdown",
   "id": "456f8061",
   "metadata": {},
   "source": [
    "## Multinomial"
   ]
  },
  {
   "cell_type": "code",
   "execution_count": 166,
   "id": "658d8769",
   "metadata": {},
   "outputs": [
    {
     "name": "stdout",
     "output_type": "stream",
     "text": [
      "oaa= 0.608505315822389\n"
     ]
    }
   ],
   "source": [
    "wine = LogisticRegression(multi_class= 'multinomial')\n",
    "wine.fit(X,y)\n",
    "print(\"oaa=\", wine.score(X,y))"
   ]
  },
  {
   "cell_type": "code",
   "execution_count": 167,
   "id": "f2a6afe4",
   "metadata": {},
   "outputs": [
    {
     "name": "stdout",
     "output_type": "stream",
     "text": [
      "mul\n",
      "\n",
      "[[  0   0   9   1   0   0]\n",
      " [  0   0  38  14   1   0]\n",
      " [  0   0 522 157   2   0]\n",
      " [  0   0 207 396  35   0]\n",
      " [  0   0  10 134  55   0]\n",
      " [  0   0   0  11   7   0]]\n",
      "              precision    recall  f1-score   support\n",
      "\n",
      "           3       0.00      0.00      0.00        10\n",
      "           4       0.00      0.00      0.00        53\n",
      "           5       0.66      0.77      0.71       681\n",
      "           6       0.56      0.62      0.59       638\n",
      "           7       0.55      0.28      0.37       199\n",
      "           8       0.00      0.00      0.00        18\n",
      "\n",
      "    accuracy                           0.61      1599\n",
      "   macro avg       0.29      0.28      0.28      1599\n",
      "weighted avg       0.57      0.61      0.58      1599\n",
      "\n"
     ]
    }
   ],
   "source": [
    "pred_mul = wine.predict(X)\n",
    "print(\"mul\\n\")\n",
    "print(metrics.confusion_matrix(y, pred_mul))\n",
    "print(metrics.classification_report(y, pred_mul))"
   ]
  },
  {
   "cell_type": "code",
   "execution_count": null,
   "id": "5fe016cc",
   "metadata": {},
   "outputs": [],
   "source": []
  }
 ],
 "metadata": {
  "kernelspec": {
   "display_name": "Python 3 (ipykernel)",
   "language": "python",
   "name": "python3"
  },
  "language_info": {
   "codemirror_mode": {
    "name": "ipython",
    "version": 3
   },
   "file_extension": ".py",
   "mimetype": "text/x-python",
   "name": "python",
   "nbconvert_exporter": "python",
   "pygments_lexer": "ipython3",
   "version": "3.9.12"
  }
 },
 "nbformat": 4,
 "nbformat_minor": 5
}
